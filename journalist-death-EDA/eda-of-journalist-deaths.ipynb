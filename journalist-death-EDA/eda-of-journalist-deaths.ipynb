{
 "cells": [
  {
   "cell_type": "markdown",
   "id": "8f02d4da",
   "metadata": {
    "_cell_guid": "b1076dfc-b9ad-4769-8c92-a6c4dae69d19",
    "_uuid": "8f2839f25d086af736a60e9eeb907d3b93b6e0e5",
    "execution": {
     "iopub.execute_input": "2022-02-13T05:03:28.343392Z",
     "iopub.status.busy": "2022-02-13T05:03:28.343091Z",
     "iopub.status.idle": "2022-02-13T05:03:28.353192Z",
     "shell.execute_reply": "2022-02-13T05:03:28.352493Z",
     "shell.execute_reply.started": "2022-02-13T05:03:28.343362Z"
    },
    "papermill": {
     "duration": 0.080774,
     "end_time": "2022-02-13T05:45:23.471647",
     "exception": false,
     "start_time": "2022-02-13T05:45:23.390873",
     "status": "completed"
    },
    "tags": []
   },
   "source": [
    "<span style = \"color :#ff00ff; font-size:35px; font-family: 'Times New Roman', Times, serif;\">Exploratory data analysis of the lost journalists</span>"
   ]
  },
  {
   "cell_type": "markdown",
   "id": "021826ae",
   "metadata": {
    "papermill": {
     "duration": 0.075939,
     "end_time": "2022-02-13T05:45:23.624668",
     "exception": false,
     "start_time": "2022-02-13T05:45:23.548729",
     "status": "completed"
    },
    "tags": []
   },
   "source": [
    "# Introduction\n",
    "<span style = \"color:blue; font-size:20px;\" >please read this text for information about dataset</span> </br>\n",
    "<a href = \"https://www.kaggle.com/yamqwe/journalist-deathse\">link</a> "
   ]
  },
  {
   "cell_type": "markdown",
   "id": "e2142618",
   "metadata": {
    "papermill": {
     "duration": 0.076112,
     "end_time": "2022-02-13T05:45:23.777425",
     "exception": false,
     "start_time": "2022-02-13T05:45:23.701313",
     "status": "completed"
    },
    "tags": []
   },
   "source": [
    "# Importing Libraries and data"
   ]
  },
  {
   "cell_type": "code",
   "execution_count": 1,
   "id": "5652a29b",
   "metadata": {
    "execution": {
     "iopub.execute_input": "2022-02-13T05:45:23.934641Z",
     "iopub.status.busy": "2022-02-13T05:45:23.933479Z",
     "iopub.status.idle": "2022-02-13T05:45:25.000347Z",
     "shell.execute_reply": "2022-02-13T05:45:24.999532Z",
     "shell.execute_reply.started": "2022-02-13T05:09:40.492660Z"
    },
    "papermill": {
     "duration": 1.14646,
     "end_time": "2022-02-13T05:45:25.000519",
     "exception": false,
     "start_time": "2022-02-13T05:45:23.854059",
     "status": "completed"
    },
    "tags": []
   },
   "outputs": [],
   "source": [
    "import numpy as np\n",
    "import pandas as pd\n",
    "import matplotlib.pyplot as plt\n",
    "import seaborn as sns"
   ]
  },
  {
   "cell_type": "code",
   "execution_count": 2,
   "id": "7f0a351c",
   "metadata": {
    "execution": {
     "iopub.execute_input": "2022-02-13T05:45:25.156970Z",
     "iopub.status.busy": "2022-02-13T05:45:25.156312Z",
     "iopub.status.idle": "2022-02-13T05:45:25.187010Z",
     "shell.execute_reply": "2022-02-13T05:45:25.187510Z",
     "shell.execute_reply.started": "2022-02-13T05:03:29.459330Z"
    },
    "papermill": {
     "duration": 0.110597,
     "end_time": "2022-02-13T05:45:25.187688",
     "exception": false,
     "start_time": "2022-02-13T05:45:25.077091",
     "status": "completed"
    },
    "tags": []
   },
   "outputs": [],
   "source": [
    "data = pd.read_csv(\"../input/journalist-deathse/cpj-database.csv\")"
   ]
  },
  {
   "cell_type": "code",
   "execution_count": 3,
   "id": "f03d7886",
   "metadata": {
    "execution": {
     "iopub.execute_input": "2022-02-13T05:45:25.356409Z",
     "iopub.status.busy": "2022-02-13T05:45:25.355586Z",
     "iopub.status.idle": "2022-02-13T05:45:25.380180Z",
     "shell.execute_reply": "2022-02-13T05:45:25.380670Z",
     "shell.execute_reply.started": "2022-02-13T05:31:15.731841Z"
    },
    "papermill": {
     "duration": 0.114946,
     "end_time": "2022-02-13T05:45:25.380862",
     "exception": false,
     "start_time": "2022-02-13T05:45:25.265916",
     "status": "completed"
    },
    "tags": []
   },
   "outputs": [
    {
     "data": {
      "text/html": [
       "<div>\n",
       "<style scoped>\n",
       "    .dataframe tbody tr th:only-of-type {\n",
       "        vertical-align: middle;\n",
       "    }\n",
       "\n",
       "    .dataframe tbody tr th {\n",
       "        vertical-align: top;\n",
       "    }\n",
       "\n",
       "    .dataframe thead th {\n",
       "        text-align: right;\n",
       "    }\n",
       "</style>\n",
       "<table border=\"1\" class=\"dataframe\">\n",
       "  <thead>\n",
       "    <tr style=\"text-align: right;\">\n",
       "      <th></th>\n",
       "      <th>index</th>\n",
       "      <th>Date</th>\n",
       "      <th>Name</th>\n",
       "      <th>Sex</th>\n",
       "      <th>Country Killed</th>\n",
       "      <th>Organization</th>\n",
       "      <th>Nationality</th>\n",
       "      <th>Medium</th>\n",
       "      <th>Job</th>\n",
       "      <th>Coverage</th>\n",
       "      <th>...</th>\n",
       "      <th>Tortured</th>\n",
       "      <th>Unnamed: 17</th>\n",
       "      <th>Unnamed: 18</th>\n",
       "      <th>Unnamed: 19</th>\n",
       "      <th>Unnamed: 20</th>\n",
       "      <th>Unnamed: 21</th>\n",
       "      <th>Unnamed: 22</th>\n",
       "      <th>Unnamed: 23</th>\n",
       "      <th>Unnamed: 24</th>\n",
       "      <th>Unnamed: 25</th>\n",
       "    </tr>\n",
       "  </thead>\n",
       "  <tbody>\n",
       "    <tr>\n",
       "      <th>0</th>\n",
       "      <td>0</td>\n",
       "      <td>1/1/92</td>\n",
       "      <td>Kladoumbaye Maxime</td>\n",
       "      <td>Male</td>\n",
       "      <td>Chad</td>\n",
       "      <td>Agence Tchadienne de Presse</td>\n",
       "      <td>NaN</td>\n",
       "      <td>NaN</td>\n",
       "      <td>NaN</td>\n",
       "      <td>NaN</td>\n",
       "      <td>...</td>\n",
       "      <td>NaN</td>\n",
       "      <td>NaN</td>\n",
       "      <td>NaN</td>\n",
       "      <td>NaN</td>\n",
       "      <td>NaN</td>\n",
       "      <td>NaN</td>\n",
       "      <td>NaN</td>\n",
       "      <td>NaN</td>\n",
       "      <td>NaN</td>\n",
       "      <td>NaN</td>\n",
       "    </tr>\n",
       "    <tr>\n",
       "      <th>1</th>\n",
       "      <td>1</td>\n",
       "      <td>1/3/92</td>\n",
       "      <td>Ram Singh Biling</td>\n",
       "      <td>Male</td>\n",
       "      <td>India</td>\n",
       "      <td>Azdi Awaz, Daily Ajit</td>\n",
       "      <td>India</td>\n",
       "      <td>Print</td>\n",
       "      <td>Print Reporter</td>\n",
       "      <td>Corruption, Human Rights, Politics</td>\n",
       "      <td>...</td>\n",
       "      <td>No</td>\n",
       "      <td>NaN</td>\n",
       "      <td>NaN</td>\n",
       "      <td>NaN</td>\n",
       "      <td>NaN</td>\n",
       "      <td>NaN</td>\n",
       "      <td>NaN</td>\n",
       "      <td>NaN</td>\n",
       "      <td>NaN</td>\n",
       "      <td>NaN</td>\n",
       "    </tr>\n",
       "    <tr>\n",
       "      <th>2</th>\n",
       "      <td>2</td>\n",
       "      <td>1/15/92</td>\n",
       "      <td>Mustafa Jeha</td>\n",
       "      <td>Male</td>\n",
       "      <td>Lebanon</td>\n",
       "      <td>Al-Amal</td>\n",
       "      <td>Lebanon</td>\n",
       "      <td>Print</td>\n",
       "      <td>Columnist</td>\n",
       "      <td>Politics</td>\n",
       "      <td>...</td>\n",
       "      <td>No</td>\n",
       "      <td>NaN</td>\n",
       "      <td>NaN</td>\n",
       "      <td>NaN</td>\n",
       "      <td>NaN</td>\n",
       "      <td>NaN</td>\n",
       "      <td>NaN</td>\n",
       "      <td>NaN</td>\n",
       "      <td>NaN</td>\n",
       "      <td>NaN</td>\n",
       "    </tr>\n",
       "    <tr>\n",
       "      <th>3</th>\n",
       "      <td>3</td>\n",
       "      <td>1/17/92</td>\n",
       "      <td>Paul Jenks</td>\n",
       "      <td>Male</td>\n",
       "      <td>Croatia</td>\n",
       "      <td>European Pressphoto Agency</td>\n",
       "      <td>United Kingdom</td>\n",
       "      <td>Print</td>\n",
       "      <td>Photographer</td>\n",
       "      <td>War</td>\n",
       "      <td>...</td>\n",
       "      <td>No</td>\n",
       "      <td>NaN</td>\n",
       "      <td>NaN</td>\n",
       "      <td>NaN</td>\n",
       "      <td>NaN</td>\n",
       "      <td>NaN</td>\n",
       "      <td>NaN</td>\n",
       "      <td>NaN</td>\n",
       "      <td>NaN</td>\n",
       "      <td>NaN</td>\n",
       "    </tr>\n",
       "    <tr>\n",
       "      <th>4</th>\n",
       "      <td>4</td>\n",
       "      <td>2/9/92</td>\n",
       "      <td>Halit Gungen</td>\n",
       "      <td>Male</td>\n",
       "      <td>Turkey</td>\n",
       "      <td>2000'e Dogru</td>\n",
       "      <td>Turkey</td>\n",
       "      <td>Print</td>\n",
       "      <td>Editor</td>\n",
       "      <td>Corruption, Human Rights, Politics</td>\n",
       "      <td>...</td>\n",
       "      <td>No</td>\n",
       "      <td>NaN</td>\n",
       "      <td>NaN</td>\n",
       "      <td>NaN</td>\n",
       "      <td>NaN</td>\n",
       "      <td>NaN</td>\n",
       "      <td>NaN</td>\n",
       "      <td>NaN</td>\n",
       "      <td>NaN</td>\n",
       "      <td>NaN</td>\n",
       "    </tr>\n",
       "  </tbody>\n",
       "</table>\n",
       "<p>5 rows × 27 columns</p>\n",
       "</div>"
      ],
      "text/plain": [
       "   index     Date                Name   Sex Country Killed  \\\n",
       "0      0   1/1/92  Kladoumbaye Maxime  Male           Chad   \n",
       "1      1   1/3/92    Ram Singh Biling  Male          India   \n",
       "2      2  1/15/92        Mustafa Jeha  Male        Lebanon   \n",
       "3      3  1/17/92          Paul Jenks  Male        Croatia   \n",
       "4      4   2/9/92        Halit Gungen  Male         Turkey   \n",
       "\n",
       "                  Organization     Nationality Medium             Job  \\\n",
       "0  Agence Tchadienne de Presse             NaN    NaN             NaN   \n",
       "1        Azdi Awaz, Daily Ajit           India  Print  Print Reporter   \n",
       "2                      Al-Amal         Lebanon  Print       Columnist   \n",
       "3   European Pressphoto Agency  United Kingdom  Print    Photographer   \n",
       "4                 2000'e Dogru          Turkey  Print          Editor   \n",
       "\n",
       "                             Coverage  ... Tortured Unnamed: 17 Unnamed: 18  \\\n",
       "0                                 NaN  ...      NaN         NaN         NaN   \n",
       "1  Corruption, Human Rights, Politics  ...       No         NaN         NaN   \n",
       "2                            Politics  ...       No         NaN         NaN   \n",
       "3                                 War  ...       No         NaN         NaN   \n",
       "4  Corruption, Human Rights, Politics  ...       No         NaN         NaN   \n",
       "\n",
       "  Unnamed: 19 Unnamed: 20 Unnamed: 21 Unnamed: 22 Unnamed: 23  Unnamed: 24  \\\n",
       "0         NaN         NaN         NaN         NaN         NaN          NaN   \n",
       "1         NaN         NaN         NaN         NaN         NaN          NaN   \n",
       "2         NaN         NaN         NaN         NaN         NaN          NaN   \n",
       "3         NaN         NaN         NaN         NaN         NaN          NaN   \n",
       "4         NaN         NaN         NaN         NaN         NaN          NaN   \n",
       "\n",
       "   Unnamed: 25  \n",
       "0          NaN  \n",
       "1          NaN  \n",
       "2          NaN  \n",
       "3          NaN  \n",
       "4          NaN  \n",
       "\n",
       "[5 rows x 27 columns]"
      ]
     },
     "execution_count": 3,
     "metadata": {},
     "output_type": "execute_result"
    }
   ],
   "source": [
    "data.head()"
   ]
  },
  {
   "cell_type": "markdown",
   "id": "94b1d43b",
   "metadata": {
    "papermill": {
     "duration": 0.076808,
     "end_time": "2022-02-13T05:45:25.535894",
     "exception": false,
     "start_time": "2022-02-13T05:45:25.459086",
     "status": "completed"
    },
    "tags": []
   },
   "source": [
    "# Cleaning "
   ]
  },
  {
   "cell_type": "markdown",
   "id": "0a2941f6",
   "metadata": {
    "papermill": {
     "duration": 0.076908,
     "end_time": "2022-02-13T05:45:25.690420",
     "exception": false,
     "start_time": "2022-02-13T05:45:25.613512",
     "status": "completed"
    },
    "tags": []
   },
   "source": [
    "## will drop the empty columns "
   ]
  },
  {
   "cell_type": "code",
   "execution_count": 4,
   "id": "2082ae26",
   "metadata": {
    "execution": {
     "iopub.execute_input": "2022-02-13T05:45:25.849228Z",
     "iopub.status.busy": "2022-02-13T05:45:25.848529Z",
     "iopub.status.idle": "2022-02-13T05:45:25.857128Z",
     "shell.execute_reply": "2022-02-13T05:45:25.857770Z",
     "shell.execute_reply.started": "2022-02-13T05:03:29.584119Z"
    },
    "papermill": {
     "duration": 0.090087,
     "end_time": "2022-02-13T05:45:25.857982",
     "exception": false,
     "start_time": "2022-02-13T05:45:25.767895",
     "status": "completed"
    },
    "tags": []
   },
   "outputs": [],
   "source": [
    "data = data.drop(['index','Unnamed: 17', 'Unnamed: 18', 'Unnamed: 19', 'Unnamed: 20',\n",
    "       'Unnamed: 21', 'Unnamed: 22', 'Unnamed: 23', 'Unnamed: 24',\n",
    "       'Unnamed: 25'], axis = 1)"
   ]
  },
  {
   "cell_type": "code",
   "execution_count": 5,
   "id": "6bfbfb96",
   "metadata": {
    "execution": {
     "iopub.execute_input": "2022-02-13T05:45:26.020693Z",
     "iopub.status.busy": "2022-02-13T05:45:26.020064Z",
     "iopub.status.idle": "2022-02-13T05:45:26.024702Z",
     "shell.execute_reply": "2022-02-13T05:45:26.025279Z",
     "shell.execute_reply.started": "2022-02-13T05:03:29.606294Z"
    },
    "papermill": {
     "duration": 0.087179,
     "end_time": "2022-02-13T05:45:26.025446",
     "exception": false,
     "start_time": "2022-02-13T05:45:25.938267",
     "status": "completed"
    },
    "tags": []
   },
   "outputs": [
    {
     "data": {
      "text/plain": [
       "Index(['Date', 'Name', 'Sex', 'Country Killed', 'Organization', 'Nationality',\n",
       "       'Medium', 'Job', 'Coverage', 'Freelance', 'Local/Foreign',\n",
       "       'Source of Fire', 'Type of Death', 'Impunity (for Murder)',\n",
       "       'Taken Captive', 'Threatened', 'Tortured'],\n",
       "      dtype='object')"
      ]
     },
     "execution_count": 5,
     "metadata": {},
     "output_type": "execute_result"
    }
   ],
   "source": [
    "data.columns"
   ]
  },
  {
   "cell_type": "markdown",
   "id": "cd35b809",
   "metadata": {
    "papermill": {
     "duration": 0.079255,
     "end_time": "2022-02-13T05:45:26.184573",
     "exception": false,
     "start_time": "2022-02-13T05:45:26.105318",
     "status": "completed"
    },
    "tags": []
   },
   "source": [
    "# EDA "
   ]
  },
  {
   "cell_type": "code",
   "execution_count": 6,
   "id": "85f1ab91",
   "metadata": {
    "execution": {
     "iopub.execute_input": "2022-02-13T05:45:26.345684Z",
     "iopub.status.busy": "2022-02-13T05:45:26.345075Z",
     "iopub.status.idle": "2022-02-13T05:45:26.350470Z",
     "shell.execute_reply": "2022-02-13T05:45:26.349974Z",
     "shell.execute_reply.started": "2022-02-13T05:03:29.614240Z"
    },
    "papermill": {
     "duration": 0.086704,
     "end_time": "2022-02-13T05:45:26.350606",
     "exception": false,
     "start_time": "2022-02-13T05:45:26.263902",
     "status": "completed"
    },
    "tags": []
   },
   "outputs": [
    {
     "data": {
      "text/plain": [
       "(1641, 17)"
      ]
     },
     "execution_count": 6,
     "metadata": {},
     "output_type": "execute_result"
    }
   ],
   "source": [
    "data.shape"
   ]
  },
  {
   "cell_type": "markdown",
   "id": "1aa2675f",
   "metadata": {
    "papermill": {
     "duration": 0.077853,
     "end_time": "2022-02-13T05:45:26.507067",
     "exception": false,
     "start_time": "2022-02-13T05:45:26.429214",
     "status": "completed"
    },
    "tags": []
   },
   "source": [
    "## 1641 rows and 17 columns"
   ]
  },
  {
   "cell_type": "code",
   "execution_count": 7,
   "id": "ea576908",
   "metadata": {
    "execution": {
     "iopub.execute_input": "2022-02-13T05:45:26.667686Z",
     "iopub.status.busy": "2022-02-13T05:45:26.666735Z",
     "iopub.status.idle": "2022-02-13T05:45:26.690365Z",
     "shell.execute_reply": "2022-02-13T05:45:26.690894Z",
     "shell.execute_reply.started": "2022-02-13T05:03:29.686527Z"
    },
    "papermill": {
     "duration": 0.105059,
     "end_time": "2022-02-13T05:45:26.691060",
     "exception": false,
     "start_time": "2022-02-13T05:45:26.586001",
     "status": "completed"
    },
    "tags": []
   },
   "outputs": [
    {
     "name": "stdout",
     "output_type": "stream",
     "text": [
      "<class 'pandas.core.frame.DataFrame'>\n",
      "RangeIndex: 1641 entries, 0 to 1640\n",
      "Data columns (total 17 columns):\n",
      " #   Column                 Non-Null Count  Dtype \n",
      "---  ------                 --------------  ----- \n",
      " 0   Date                   1641 non-null   object\n",
      " 1   Name                   1641 non-null   object\n",
      " 2   Sex                    1176 non-null   object\n",
      " 3   Country Killed         1640 non-null   object\n",
      " 4   Organization           1638 non-null   object\n",
      " 5   Nationality            1405 non-null   object\n",
      " 6   Medium                 1175 non-null   object\n",
      " 7   Job                    1168 non-null   object\n",
      " 8   Coverage               1139 non-null   object\n",
      " 9   Freelance              1175 non-null   object\n",
      " 10  Local/Foreign          1175 non-null   object\n",
      " 11  Source of Fire         1175 non-null   object\n",
      " 12  Type of Death          1175 non-null   object\n",
      " 13  Impunity (for Murder)  758 non-null    object\n",
      " 14  Taken Captive          1057 non-null   object\n",
      " 15  Threatened             1060 non-null   object\n",
      " 16  Tortured               1051 non-null   object\n",
      "dtypes: object(17)\n",
      "memory usage: 218.1+ KB\n"
     ]
    }
   ],
   "source": [
    "data.info()"
   ]
  },
  {
   "cell_type": "markdown",
   "id": "192bb299",
   "metadata": {
    "papermill": {
     "duration": 0.079581,
     "end_time": "2022-02-13T05:45:26.849517",
     "exception": false,
     "start_time": "2022-02-13T05:45:26.769936",
     "status": "completed"
    },
    "tags": []
   },
   "source": [
    "## all the feature variables anre categorical"
   ]
  },
  {
   "cell_type": "code",
   "execution_count": 8,
   "id": "c8cc43e6",
   "metadata": {
    "execution": {
     "iopub.execute_input": "2022-02-13T05:45:27.020904Z",
     "iopub.status.busy": "2022-02-13T05:45:27.020149Z",
     "iopub.status.idle": "2022-02-13T05:45:27.023299Z",
     "shell.execute_reply": "2022-02-13T05:45:27.023769Z",
     "shell.execute_reply.started": "2022-02-13T05:03:29.786599Z"
    },
    "papermill": {
     "duration": 0.095224,
     "end_time": "2022-02-13T05:45:27.023954",
     "exception": false,
     "start_time": "2022-02-13T05:45:26.928730",
     "status": "completed"
    },
    "tags": []
   },
   "outputs": [
    {
     "data": {
      "text/plain": [
       "Date                     1323\n",
       "Name                     1637\n",
       "Sex                         4\n",
       "Country Killed            105\n",
       "Organization             1114\n",
       "Nationality               169\n",
       "Medium                     18\n",
       "Job                        72\n",
       "Coverage                   76\n",
       "Freelance                   5\n",
       "Local/Foreign               4\n",
       "Source of Fire             20\n",
       "Type of Death               8\n",
       "Impunity (for Murder)       6\n",
       "Taken Captive               5\n",
       "Threatened                  6\n",
       "Tortured                    4\n",
       "dtype: int64"
      ]
     },
     "execution_count": 8,
     "metadata": {},
     "output_type": "execute_result"
    }
   ],
   "source": [
    "data.nunique()"
   ]
  },
  {
   "cell_type": "markdown",
   "id": "8a0994f9",
   "metadata": {
    "papermill": {
     "duration": 0.078814,
     "end_time": "2022-02-13T05:45:27.182360",
     "exception": false,
     "start_time": "2022-02-13T05:45:27.103546",
     "status": "completed"
    },
    "tags": []
   },
   "source": [
    "## let's check for null values"
   ]
  },
  {
   "cell_type": "code",
   "execution_count": 9,
   "id": "23f4bf7f",
   "metadata": {
    "execution": {
     "iopub.execute_input": "2022-02-13T05:45:27.345376Z",
     "iopub.status.busy": "2022-02-13T05:45:27.344437Z",
     "iopub.status.idle": "2022-02-13T05:45:27.354289Z",
     "shell.execute_reply": "2022-02-13T05:45:27.354762Z",
     "shell.execute_reply.started": "2022-02-13T05:03:29.803460Z"
    },
    "papermill": {
     "duration": 0.092325,
     "end_time": "2022-02-13T05:45:27.354949",
     "exception": false,
     "start_time": "2022-02-13T05:45:27.262624",
     "status": "completed"
    },
    "tags": []
   },
   "outputs": [
    {
     "data": {
      "text/plain": [
       "Date                       0\n",
       "Name                       0\n",
       "Sex                      465\n",
       "Country Killed             1\n",
       "Organization               3\n",
       "Nationality              236\n",
       "Medium                   466\n",
       "Job                      473\n",
       "Coverage                 502\n",
       "Freelance                466\n",
       "Local/Foreign            466\n",
       "Source of Fire           466\n",
       "Type of Death            466\n",
       "Impunity (for Murder)    883\n",
       "Taken Captive            584\n",
       "Threatened               581\n",
       "Tortured                 590\n",
       "dtype: int64"
      ]
     },
     "execution_count": 9,
     "metadata": {},
     "output_type": "execute_result"
    }
   ],
   "source": [
    "data.isnull().sum()"
   ]
  },
  {
   "cell_type": "markdown",
   "id": "df1e8dd1",
   "metadata": {
    "papermill": {
     "duration": 0.079763,
     "end_time": "2022-02-13T05:45:27.514300",
     "exception": false,
     "start_time": "2022-02-13T05:45:27.434537",
     "status": "completed"
    },
    "tags": []
   },
   "source": [
    "## will rename some coulumns for our convenience"
   ]
  },
  {
   "cell_type": "code",
   "execution_count": 10,
   "id": "adbff707",
   "metadata": {
    "execution": {
     "iopub.execute_input": "2022-02-13T05:45:27.680723Z",
     "iopub.status.busy": "2022-02-13T05:45:27.679882Z",
     "iopub.status.idle": "2022-02-13T05:45:27.682430Z",
     "shell.execute_reply": "2022-02-13T05:45:27.681946Z",
     "shell.execute_reply.started": "2022-02-13T05:03:30.061915Z"
    },
    "papermill": {
     "duration": 0.088296,
     "end_time": "2022-02-13T05:45:27.682565",
     "exception": false,
     "start_time": "2022-02-13T05:45:27.594269",
     "status": "completed"
    },
    "tags": []
   },
   "outputs": [],
   "source": [
    "data = data.rename({\"Country Killed\":\"Country_Killed\",\"Local/Foreign\":\"Local_or_Foreign\",\"Source of Fire\":\"Source_of_Fire\", \"Type of Death\":\"Type_of_Death\", \"Impunity (for Murder)\":\"Impunity\", \"Taken Captive\":\"Taken_Captive\" }, axis = 1)"
   ]
  },
  {
   "cell_type": "markdown",
   "id": "3cbbe82a",
   "metadata": {
    "papermill": {
     "duration": 0.079994,
     "end_time": "2022-02-13T05:45:27.842858",
     "exception": false,
     "start_time": "2022-02-13T05:45:27.762864",
     "status": "completed"
    },
    "tags": []
   },
   "source": [
    "## fill the null values with No_Data"
   ]
  },
  {
   "cell_type": "code",
   "execution_count": 11,
   "id": "1140675b",
   "metadata": {
    "execution": {
     "iopub.execute_input": "2022-02-13T05:45:28.007512Z",
     "iopub.status.busy": "2022-02-13T05:45:28.006766Z",
     "iopub.status.idle": "2022-02-13T05:45:28.014651Z",
     "shell.execute_reply": "2022-02-13T05:45:28.015154Z",
     "shell.execute_reply.started": "2022-02-13T05:03:30.141905Z"
    },
    "papermill": {
     "duration": 0.091691,
     "end_time": "2022-02-13T05:45:28.015319",
     "exception": false,
     "start_time": "2022-02-13T05:45:27.923628",
     "status": "completed"
    },
    "tags": []
   },
   "outputs": [],
   "source": [
    "data = data.fillna(\"No_Data\")"
   ]
  },
  {
   "cell_type": "markdown",
   "id": "80b45a4c",
   "metadata": {
    "papermill": {
     "duration": 0.079561,
     "end_time": "2022-02-13T05:45:28.174718",
     "exception": false,
     "start_time": "2022-02-13T05:45:28.095157",
     "status": "completed"
    },
    "tags": []
   },
   "source": [
    "## Now add a new coulmn, Year"
   ]
  },
  {
   "cell_type": "code",
   "execution_count": 12,
   "id": "1a7eec5a",
   "metadata": {
    "execution": {
     "iopub.execute_input": "2022-02-13T05:45:28.341254Z",
     "iopub.status.busy": "2022-02-13T05:45:28.340229Z",
     "iopub.status.idle": "2022-02-13T05:45:28.366715Z",
     "shell.execute_reply": "2022-02-13T05:45:28.367181Z",
     "shell.execute_reply.started": "2022-02-13T05:03:30.151827Z"
    },
    "papermill": {
     "duration": 0.112514,
     "end_time": "2022-02-13T05:45:28.367390",
     "exception": false,
     "start_time": "2022-02-13T05:45:28.254876",
     "status": "completed"
    },
    "tags": []
   },
   "outputs": [],
   "source": [
    "def year(row):\n",
    "    y = row['Date']\n",
    "    y = y[len(y)-2:]\n",
    "    return y\n",
    "\n",
    "data['Year'] = data.apply(lambda row: year(row), axis = 1)"
   ]
  },
  {
   "cell_type": "markdown",
   "id": "21eed2ac",
   "metadata": {
    "papermill": {
     "duration": 0.079593,
     "end_time": "2022-02-13T05:45:28.526122",
     "exception": false,
     "start_time": "2022-02-13T05:45:28.446529",
     "status": "completed"
    },
    "tags": []
   },
   "source": [
    "## of which years data we have "
   ]
  },
  {
   "cell_type": "code",
   "execution_count": 13,
   "id": "d6da6758",
   "metadata": {
    "execution": {
     "iopub.execute_input": "2022-02-13T05:45:28.688912Z",
     "iopub.status.busy": "2022-02-13T05:45:28.687973Z",
     "iopub.status.idle": "2022-02-13T05:45:28.693840Z",
     "shell.execute_reply": "2022-02-13T05:45:28.694363Z",
     "shell.execute_reply.started": "2022-02-13T05:03:30.246597Z"
    },
    "papermill": {
     "duration": 0.08897,
     "end_time": "2022-02-13T05:45:28.694521",
     "exception": false,
     "start_time": "2022-02-13T05:45:28.605551",
     "status": "completed"
    },
    "tags": []
   },
   "outputs": [
    {
     "data": {
      "text/plain": [
       "array(['92', '93', '94', '95', '96', '97', '98', '99', '00', '01', '02',\n",
       "       '03', '04', '05', '06', '07', '08', '09', '10', '11', '12', '13',\n",
       "       '14', '15', '16', '17', '18', 'te', 'wn', '7,', '7)'], dtype=object)"
      ]
     },
     "execution_count": 13,
     "metadata": {},
     "output_type": "execute_result"
    }
   ],
   "source": [
    "data['Year'].unique()"
   ]
  },
  {
   "cell_type": "markdown",
   "id": "3e489fae",
   "metadata": {
    "papermill": {
     "duration": 0.079731,
     "end_time": "2022-02-13T05:45:28.854000",
     "exception": false,
     "start_time": "2022-02-13T05:45:28.774269",
     "status": "completed"
    },
    "tags": []
   },
   "source": [
    "## we hav to clean every coulmn separately"
   ]
  },
  {
   "cell_type": "code",
   "execution_count": 14,
   "id": "45938092",
   "metadata": {
    "execution": {
     "iopub.execute_input": "2022-02-13T05:45:29.017787Z",
     "iopub.status.busy": "2022-02-13T05:45:29.016856Z",
     "iopub.status.idle": "2022-02-13T05:45:29.130148Z",
     "shell.execute_reply": "2022-02-13T05:45:29.130618Z",
     "shell.execute_reply.started": "2022-02-13T05:03:30.336928Z"
    },
    "papermill": {
     "duration": 0.196766,
     "end_time": "2022-02-13T05:45:29.130789",
     "exception": false,
     "start_time": "2022-02-13T05:45:28.934023",
     "status": "completed"
    },
    "tags": []
   },
   "outputs": [],
   "source": [
    "for index, row in data.iterrows():\n",
    "    if row['Year'] == 'wn':\n",
    "        data.at[index, 'Year'] = 'Unknown'\n",
    "    elif row['Year'] == 'te':\n",
    "        data.at[index, 'Year'] = 'Unknown'\n",
    "    elif row['Year'] == '7,':\n",
    "        data.at[index, 'Year'] = 'Unknown'\n",
    "    elif row['Year'] == '7)':\n",
    "        data.at[index, 'Year'] = 'Unknown'"
   ]
  },
  {
   "cell_type": "code",
   "execution_count": 15,
   "id": "0c1b2eea",
   "metadata": {
    "execution": {
     "iopub.execute_input": "2022-02-13T05:45:29.296887Z",
     "iopub.status.busy": "2022-02-13T05:45:29.295447Z",
     "iopub.status.idle": "2022-02-13T05:45:29.299187Z",
     "shell.execute_reply": "2022-02-13T05:45:29.299630Z",
     "shell.execute_reply.started": "2022-02-13T05:37:33.289193Z"
    },
    "papermill": {
     "duration": 0.088996,
     "end_time": "2022-02-13T05:45:29.299793",
     "exception": false,
     "start_time": "2022-02-13T05:45:29.210797",
     "status": "completed"
    },
    "tags": []
   },
   "outputs": [
    {
     "data": {
      "text/plain": [
       "array(['92', '93', '94', '95', '96', '97', '98', '99', '00', '01', '02',\n",
       "       '03', '04', '05', '06', '07', '08', '09', '10', '11', '12', '13',\n",
       "       '14', '15', '16', '17', '18', 'Unknown'], dtype=object)"
      ]
     },
     "execution_count": 15,
     "metadata": {},
     "output_type": "execute_result"
    }
   ],
   "source": [
    "data['Year'].unique()\n",
    "    "
   ]
  },
  {
   "cell_type": "markdown",
   "id": "3e20d896",
   "metadata": {
    "papermill": {
     "duration": 0.080046,
     "end_time": "2022-02-13T05:45:29.460026",
     "exception": false,
     "start_time": "2022-02-13T05:45:29.379980",
     "status": "completed"
    },
    "tags": []
   },
   "source": [
    "## same process for sex"
   ]
  },
  {
   "cell_type": "code",
   "execution_count": 16,
   "id": "6f8fe08c",
   "metadata": {
    "execution": {
     "iopub.execute_input": "2022-02-13T05:45:29.639281Z",
     "iopub.status.busy": "2022-02-13T05:45:29.634215Z",
     "iopub.status.idle": "2022-02-13T05:45:29.723925Z",
     "shell.execute_reply": "2022-02-13T05:45:29.723341Z",
     "shell.execute_reply.started": "2022-02-13T05:03:30.462381Z"
    },
    "papermill": {
     "duration": 0.183849,
     "end_time": "2022-02-13T05:45:29.724077",
     "exception": false,
     "start_time": "2022-02-13T05:45:29.540228",
     "status": "completed"
    },
    "tags": []
   },
   "outputs": [],
   "source": [
    "for index, row in data.iterrows():\n",
    "    if row['Sex'] == 'na':\n",
    "        data.at[index, 'Sex'] = \"No_Data\"\n",
    "    elif row['Sex'] == 'Sex':\n",
    "        data.at[index, \"Sex\"] = \"No_Data\""
   ]
  },
  {
   "cell_type": "code",
   "execution_count": 17,
   "id": "8c1108b1",
   "metadata": {
    "execution": {
     "iopub.execute_input": "2022-02-13T05:45:29.893349Z",
     "iopub.status.busy": "2022-02-13T05:45:29.892559Z",
     "iopub.status.idle": "2022-02-13T05:45:29.895572Z",
     "shell.execute_reply": "2022-02-13T05:45:29.896091Z",
     "shell.execute_reply.started": "2022-02-13T05:03:30.569784Z"
    },
    "papermill": {
     "duration": 0.091351,
     "end_time": "2022-02-13T05:45:29.896270",
     "exception": false,
     "start_time": "2022-02-13T05:45:29.804919",
     "status": "completed"
    },
    "tags": []
   },
   "outputs": [
    {
     "data": {
      "text/plain": [
       "array(['Male', 'No_Data', 'Female'], dtype=object)"
      ]
     },
     "execution_count": 17,
     "metadata": {},
     "output_type": "execute_result"
    }
   ],
   "source": [
    "data['Sex'].unique()"
   ]
  },
  {
   "cell_type": "code",
   "execution_count": 18,
   "id": "09e40e3e",
   "metadata": {
    "execution": {
     "iopub.execute_input": "2022-02-13T05:45:30.062973Z",
     "iopub.status.busy": "2022-02-13T05:45:30.062310Z",
     "iopub.status.idle": "2022-02-13T05:45:30.068431Z",
     "shell.execute_reply": "2022-02-13T05:45:30.068964Z",
     "shell.execute_reply.started": "2022-02-13T05:03:30.577631Z"
    },
    "papermill": {
     "duration": 0.091557,
     "end_time": "2022-02-13T05:45:30.069130",
     "exception": false,
     "start_time": "2022-02-13T05:45:29.977573",
     "status": "completed"
    },
    "tags": []
   },
   "outputs": [
    {
     "data": {
      "text/plain": [
       "Index(['Date', 'Name', 'Sex', 'Country_Killed', 'Organization', 'Nationality',\n",
       "       'Medium', 'Job', 'Coverage', 'Freelance', 'Local_or_Foreign',\n",
       "       'Source_of_Fire', 'Type_of_Death', 'Impunity', 'Taken_Captive',\n",
       "       'Threatened', 'Tortured', 'Year'],\n",
       "      dtype='object')"
      ]
     },
     "execution_count": 18,
     "metadata": {},
     "output_type": "execute_result"
    }
   ],
   "source": [
    "data.columns"
   ]
  },
  {
   "cell_type": "markdown",
   "id": "9e730b42",
   "metadata": {
    "papermill": {
     "duration": 0.08298,
     "end_time": "2022-02-13T05:45:30.233859",
     "exception": false,
     "start_time": "2022-02-13T05:45:30.150879",
     "status": "completed"
    },
    "tags": []
   },
   "source": [
    "## Now visualize which year have the most number of journalist death"
   ]
  },
  {
   "cell_type": "code",
   "execution_count": 19,
   "id": "2dd43338",
   "metadata": {
    "execution": {
     "iopub.execute_input": "2022-02-13T05:45:30.422851Z",
     "iopub.status.busy": "2022-02-13T05:45:30.422131Z",
     "iopub.status.idle": "2022-02-13T05:45:31.037771Z",
     "shell.execute_reply": "2022-02-13T05:45:31.038521Z",
     "shell.execute_reply.started": "2022-02-13T05:03:30.661667Z"
    },
    "papermill": {
     "duration": 0.721961,
     "end_time": "2022-02-13T05:45:31.038766",
     "exception": false,
     "start_time": "2022-02-13T05:45:30.316805",
     "status": "completed"
    },
    "tags": []
   },
   "outputs": [
    {
     "data": {
      "image/png": "[encoded data removed]",
      "text/plain": [
       "<Figure size 720x1440 with 1 Axes>"
      ]
     },
     "metadata": {
      "needs_background": "light"
     },
     "output_type": "display_data"
    }
   ],
   "source": [
    "plt.figure(figsize = (10,20))\n",
    "sns.countplot(y = 'Year', hue = 'Sex',data = data, palette = 'bright')\n",
    "plt.show()"
   ]
  },
  {
   "cell_type": "code",
   "execution_count": 20,
   "id": "ad9a068c",
   "metadata": {
    "execution": {
     "iopub.execute_input": "2022-02-13T05:45:31.221845Z",
     "iopub.status.busy": "2022-02-13T05:45:31.219277Z",
     "iopub.status.idle": "2022-02-13T05:45:31.288239Z",
     "shell.execute_reply": "2022-02-13T05:45:31.287629Z",
     "shell.execute_reply.started": "2022-02-13T05:03:31.264914Z"
    },
    "papermill": {
     "duration": 0.155683,
     "end_time": "2022-02-13T05:45:31.288390",
     "exception": false,
     "start_time": "2022-02-13T05:45:31.132707",
     "status": "completed"
    },
    "tags": []
   },
   "outputs": [],
   "source": [
    "#top ten countries journalist killed\n",
    "killed_countries = {}\n",
    "for number, country in enumerate(data['Country_Killed'].value_counts().index.tolist()):\n",
    "    killed_countries[country] = data['Country_Killed'].value_counts()[number]\n",
    "\n",
    "#killed_countries"
   ]
  },
  {
   "cell_type": "code",
   "execution_count": 21,
   "id": "c4590bbb",
   "metadata": {
    "execution": {
     "iopub.execute_input": "2022-02-13T05:45:31.456524Z",
     "iopub.status.busy": "2022-02-13T05:45:31.455898Z",
     "iopub.status.idle": "2022-02-13T05:45:31.460775Z",
     "shell.execute_reply": "2022-02-13T05:45:31.461384Z",
     "shell.execute_reply.started": "2022-02-13T05:03:31.339812Z"
    },
    "papermill": {
     "duration": 0.090479,
     "end_time": "2022-02-13T05:45:31.461556",
     "exception": false,
     "start_time": "2022-02-13T05:45:31.371077",
     "status": "completed"
    },
    "tags": []
   },
   "outputs": [],
   "source": [
    "'''def top_ten(dict):\n",
    "    val = dict.values()\n",
    "    new_dict = {}\n",
    "    for i in sorted(val, reverse = True):\n",
    "        for keys in dict.keys():\n",
    "            if dict[keys] == i:\n",
    "                new_dict[keys] = i\n",
    "    return new_dict\n",
    "  \n",
    "'''\n",
    "def top(n,dict):\n",
    "    f = list(dict.items())[:n]\n",
    "    k = {}\n",
    "    [k.update({u:v}) for u, v in f]\n",
    "    return k"
   ]
  },
  {
   "cell_type": "markdown",
   "id": "f1d79b9a",
   "metadata": {
    "papermill": {
     "duration": 0.081764,
     "end_time": "2022-02-13T05:45:31.625939",
     "exception": false,
     "start_time": "2022-02-13T05:45:31.544175",
     "status": "completed"
    },
    "tags": []
   },
   "source": [
    "## Top ten countries where journalists are killed "
   ]
  },
  {
   "cell_type": "code",
   "execution_count": 22,
   "id": "79500ac0",
   "metadata": {
    "execution": {
     "iopub.execute_input": "2022-02-13T05:45:31.795391Z",
     "iopub.status.busy": "2022-02-13T05:45:31.794201Z",
     "iopub.status.idle": "2022-02-13T05:45:31.800429Z",
     "shell.execute_reply": "2022-02-13T05:45:31.801029Z",
     "shell.execute_reply.started": "2022-02-13T05:03:31.346916Z"
    },
    "papermill": {
     "duration": 0.091825,
     "end_time": "2022-02-13T05:45:31.801207",
     "exception": false,
     "start_time": "2022-02-13T05:45:31.709382",
     "status": "completed"
    },
    "tags": []
   },
   "outputs": [
    {
     "data": {
      "text/plain": [
       "{'Iraq': 273,\n",
       " 'Philippines': 134,\n",
       " 'Syria': 130,\n",
       " 'Pakistan': 89,\n",
       " 'Russia': 82,\n",
       " 'India': 75,\n",
       " 'Somalia': 71,\n",
       " 'Algeria': 57,\n",
       " 'Afghanistan': 43,\n",
       " 'Bangladesh': 30}"
      ]
     },
     "execution_count": 22,
     "metadata": {},
     "output_type": "execute_result"
    }
   ],
   "source": [
    "top(10,killed_countries)"
   ]
  },
  {
   "cell_type": "code",
   "execution_count": 23,
   "id": "7c071a07",
   "metadata": {
    "execution": {
     "iopub.execute_input": "2022-02-13T05:45:31.975399Z",
     "iopub.status.busy": "2022-02-13T05:45:31.974420Z",
     "iopub.status.idle": "2022-02-13T05:45:32.193704Z",
     "shell.execute_reply": "2022-02-13T05:45:32.194175Z",
     "shell.execute_reply.started": "2022-02-13T05:03:31.363002Z"
    },
    "papermill": {
     "duration": 0.308434,
     "end_time": "2022-02-13T05:45:32.194350",
     "exception": false,
     "start_time": "2022-02-13T05:45:31.885916",
     "status": "completed"
    },
    "tags": []
   },
   "outputs": [
    {
     "data": {
      "image/png": "[encoded data removed]",
      "text/plain": [
       "<Figure size 1152x576 with 1 Axes>"
      ]
     },
     "metadata": {
      "needs_background": "light"
     },
     "output_type": "display_data"
    }
   ],
   "source": [
    "x = list(top(10,killed_countries).keys())\n",
    "y = list(top(10,killed_countries).values())\n",
    "plt.figure(figsize=(16,8))\n",
    "plt.bar(x, y, color = 'red')\n",
    "plt.show()"
   ]
  },
  {
   "cell_type": "code",
   "execution_count": 24,
   "id": "c40fb323",
   "metadata": {
    "execution": {
     "iopub.execute_input": "2022-02-13T05:45:32.366478Z",
     "iopub.status.busy": "2022-02-13T05:45:32.365503Z",
     "iopub.status.idle": "2022-02-13T05:45:32.479013Z",
     "shell.execute_reply": "2022-02-13T05:45:32.479498Z",
     "shell.execute_reply.started": "2022-02-13T05:03:31.609528Z"
    },
    "papermill": {
     "duration": 0.201626,
     "end_time": "2022-02-13T05:45:32.479678",
     "exception": false,
     "start_time": "2022-02-13T05:45:32.278052",
     "status": "completed"
    },
    "tags": []
   },
   "outputs": [],
   "source": [
    "killed_nationality = {}\n",
    "for number, country in enumerate(data['Nationality'].value_counts().index.tolist()):\n",
    "    killed_nationality[country] = data['Nationality'].value_counts()[number]\n",
    "#killed_nationality"
   ]
  },
  {
   "cell_type": "code",
   "execution_count": 25,
   "id": "8b2899be",
   "metadata": {
    "execution": {
     "iopub.execute_input": "2022-02-13T05:45:32.654514Z",
     "iopub.status.busy": "2022-02-13T05:45:32.653766Z",
     "iopub.status.idle": "2022-02-13T05:45:32.656874Z",
     "shell.execute_reply": "2022-02-13T05:45:32.657352Z",
     "shell.execute_reply.started": "2022-02-13T05:03:31.730840Z"
    },
    "papermill": {
     "duration": 0.093792,
     "end_time": "2022-02-13T05:45:32.657509",
     "exception": false,
     "start_time": "2022-02-13T05:45:32.563717",
     "status": "completed"
    },
    "tags": []
   },
   "outputs": [
    {
     "data": {
      "text/plain": [
       "{'No_Data': 236,\n",
       " 'Iraq': 169,\n",
       " 'Syria': 87,\n",
       " 'Philippines': 74,\n",
       " 'Pakistan': 72,\n",
       " 'Russia': 59,\n",
       " 'Algeria': 55,\n",
       " 'India': 50,\n",
       " 'Somalia': 48,\n",
       " 'Iraqi': 48,\n",
       " 'Philippine': 35,\n",
       " 'Syrian': 27,\n",
       " 'Brazil': 26,\n",
       " 'Turkey': 24,\n",
       " 'Bangladesh': 24}"
      ]
     },
     "execution_count": 25,
     "metadata": {},
     "output_type": "execute_result"
    }
   ],
   "source": [
    "top(15,killed_nationality)\n"
   ]
  },
  {
   "cell_type": "markdown",
   "id": "0118e0bd",
   "metadata": {
    "papermill": {
     "duration": 0.084892,
     "end_time": "2022-02-13T05:45:32.829549",
     "exception": false,
     "start_time": "2022-02-13T05:45:32.744657",
     "status": "completed"
    },
    "tags": []
   },
   "source": [
    "## Top 15 countries whose journalists have been killed"
   ]
  },
  {
   "cell_type": "code",
   "execution_count": 26,
   "id": "0118cde9",
   "metadata": {
    "execution": {
     "iopub.execute_input": "2022-02-13T05:45:33.007454Z",
     "iopub.status.busy": "2022-02-13T05:45:33.006490Z",
     "iopub.status.idle": "2022-02-13T05:45:33.246583Z",
     "shell.execute_reply": "2022-02-13T05:45:33.247220Z",
     "shell.execute_reply.started": "2022-02-13T05:03:31.739713Z"
    },
    "papermill": {
     "duration": 0.33029,
     "end_time": "2022-02-13T05:45:33.247387",
     "exception": false,
     "start_time": "2022-02-13T05:45:32.917097",
     "status": "completed"
    },
    "tags": []
   },
   "outputs": [
    {
     "data": {
      "image/png": "[encoded data removed]",
      "text/plain": [
       "<Figure size 1152x576 with 1 Axes>"
      ]
     },
     "metadata": {
      "needs_background": "light"
     },
     "output_type": "display_data"
    }
   ],
   "source": [
    "x = list(top(15,killed_nationality).keys())\n",
    "y = list(top(15,killed_nationality).values())\n",
    "plt.figure(figsize=(16,8))\n",
    "plt.bar(x, y, color = 'm')\n",
    "plt.show()"
   ]
  },
  {
   "cell_type": "markdown",
   "id": "0dd599f4",
   "metadata": {
    "papermill": {
     "duration": 0.084554,
     "end_time": "2022-02-13T05:45:33.417807",
     "exception": false,
     "start_time": "2022-02-13T05:45:33.333253",
     "status": "completed"
    },
    "tags": []
   },
   "source": [
    "## are they killed in their own countries or abroad"
   ]
  },
  {
   "cell_type": "code",
   "execution_count": 27,
   "id": "260ffc3d",
   "metadata": {
    "execution": {
     "iopub.execute_input": "2022-02-13T05:45:33.591780Z",
     "iopub.status.busy": "2022-02-13T05:45:33.590801Z",
     "iopub.status.idle": "2022-02-13T05:45:33.596789Z",
     "shell.execute_reply": "2022-02-13T05:45:33.597391Z",
     "shell.execute_reply.started": "2022-02-13T05:03:31.947444Z"
    },
    "papermill": {
     "duration": 0.09435,
     "end_time": "2022-02-13T05:45:33.597553",
     "exception": false,
     "start_time": "2022-02-13T05:45:33.503203",
     "status": "completed"
    },
    "tags": []
   },
   "outputs": [
    {
     "data": {
      "text/plain": [
       "array(['No_Data', 'Local', 'Foreign', 'na', 'Local/Foreign'], dtype=object)"
      ]
     },
     "execution_count": 27,
     "metadata": {},
     "output_type": "execute_result"
    }
   ],
   "source": [
    "#killed in own countries\n",
    "data['Local_or_Foreign'].unique()"
   ]
  },
  {
   "cell_type": "code",
   "execution_count": 28,
   "id": "edefa3ed",
   "metadata": {
    "execution": {
     "iopub.execute_input": "2022-02-13T05:45:33.805138Z",
     "iopub.status.busy": "2022-02-13T05:45:33.772590Z",
     "iopub.status.idle": "2022-02-13T05:45:33.873835Z",
     "shell.execute_reply": "2022-02-13T05:45:33.873251Z",
     "shell.execute_reply.started": "2022-02-13T05:03:31.954988Z"
    },
    "papermill": {
     "duration": 0.190312,
     "end_time": "2022-02-13T05:45:33.873989",
     "exception": false,
     "start_time": "2022-02-13T05:45:33.683677",
     "status": "completed"
    },
    "tags": []
   },
   "outputs": [],
   "source": [
    "for index, row in data.iterrows():\n",
    "    if row['Local_or_Foreign'] == 'na':\n",
    "        data.at[index, 'Local_or_Foreign'] = \"No_Data\"\n",
    "    elif row['Local_or_Foreign'] == 'Local/Foreign':\n",
    "        data.at[index, \"Local_or_Foreign\"] = \"No_Data\""
   ]
  },
  {
   "cell_type": "code",
   "execution_count": 29,
   "id": "985321b9",
   "metadata": {
    "execution": {
     "iopub.execute_input": "2022-02-13T05:45:34.057535Z",
     "iopub.status.busy": "2022-02-13T05:45:34.056920Z",
     "iopub.status.idle": "2022-02-13T05:45:34.062236Z",
     "shell.execute_reply": "2022-02-13T05:45:34.062741Z",
     "shell.execute_reply.started": "2022-02-13T05:03:32.059601Z"
    },
    "papermill": {
     "duration": 0.102418,
     "end_time": "2022-02-13T05:45:34.062934",
     "exception": false,
     "start_time": "2022-02-13T05:45:33.960516",
     "status": "completed"
    },
    "tags": []
   },
   "outputs": [
    {
     "data": {
      "text/plain": [
       "array(['No_Data', 'Local', 'Foreign'], dtype=object)"
      ]
     },
     "execution_count": 29,
     "metadata": {},
     "output_type": "execute_result"
    }
   ],
   "source": [
    "data['Local_or_Foreign'].unique()"
   ]
  },
  {
   "cell_type": "code",
   "execution_count": 30,
   "id": "f054b570",
   "metadata": {
    "execution": {
     "iopub.execute_input": "2022-02-13T05:45:34.238033Z",
     "iopub.status.busy": "2022-02-13T05:45:34.237403Z",
     "iopub.status.idle": "2022-02-13T05:45:34.246382Z",
     "shell.execute_reply": "2022-02-13T05:45:34.246969Z",
     "shell.execute_reply.started": "2022-02-13T05:03:32.067999Z"
    },
    "papermill": {
     "duration": 0.097961,
     "end_time": "2022-02-13T05:45:34.247130",
     "exception": false,
     "start_time": "2022-02-13T05:45:34.149169",
     "status": "completed"
    },
    "tags": []
   },
   "outputs": [
    {
     "data": {
      "text/plain": [
       "{'Local': 1008, 'No_Data': 482, 'Foreign': 151}"
      ]
     },
     "execution_count": 30,
     "metadata": {},
     "output_type": "execute_result"
    }
   ],
   "source": [
    "local_kill = {}\n",
    "for kill, region in enumerate(data['Local_or_Foreign'].value_counts().index.tolist()):\n",
    "    local_kill[region] = data['Local_or_Foreign'].value_counts()[kill]\n",
    "local_kill"
   ]
  },
  {
   "cell_type": "code",
   "execution_count": 31,
   "id": "1b6a617d",
   "metadata": {
    "execution": {
     "iopub.execute_input": "2022-02-13T05:45:34.423651Z",
     "iopub.status.busy": "2022-02-13T05:45:34.423054Z",
     "iopub.status.idle": "2022-02-13T05:45:34.594026Z",
     "shell.execute_reply": "2022-02-13T05:45:34.594978Z",
     "shell.execute_reply.started": "2022-02-13T05:03:32.088982Z"
    },
    "papermill": {
     "duration": 0.261027,
     "end_time": "2022-02-13T05:45:34.595257",
     "exception": false,
     "start_time": "2022-02-13T05:45:34.334230",
     "status": "completed"
    },
    "tags": []
   },
   "outputs": [
    {
     "data": {
      "image/png": "[encoded data removed]",
      "text/plain": [
       "<Figure size 720x720 with 1 Axes>"
      ]
     },
     "metadata": {},
     "output_type": "display_data"
    }
   ],
   "source": [
    "x = list(local_kill.keys())\n",
    "y = list(local_kill.values())\n",
    "plt.figure(figsize = (10,10))\n",
    "plt.pie(y, labels = x, autopct = '%0.2f %%',startangle = 90, explode = (0.01, 0.01, 0.01), textprops = {'fontsize': 12})\n",
    "plt.show()"
   ]
  },
  {
   "cell_type": "markdown",
   "id": "154d1fad",
   "metadata": {
    "papermill": {
     "duration": 0.087406,
     "end_time": "2022-02-13T05:45:34.787391",
     "exception": false,
     "start_time": "2022-02-13T05:45:34.699985",
     "status": "completed"
    },
    "tags": []
   },
   "source": [
    "### 61%  are killed in their own countries"
   ]
  },
  {
   "cell_type": "code",
   "execution_count": 32,
   "id": "4144ece5",
   "metadata": {
    "execution": {
     "iopub.execute_input": "2022-02-13T05:45:34.970139Z",
     "iopub.status.busy": "2022-02-13T05:45:34.968631Z",
     "iopub.status.idle": "2022-02-13T05:45:34.973002Z",
     "shell.execute_reply": "2022-02-13T05:45:34.973446Z",
     "shell.execute_reply.started": "2022-02-13T05:03:32.218964Z"
    },
    "papermill": {
     "duration": 0.097655,
     "end_time": "2022-02-13T05:45:34.973608",
     "exception": false,
     "start_time": "2022-02-13T05:45:34.875953",
     "status": "completed"
    },
    "tags": []
   },
   "outputs": [
    {
     "data": {
      "text/plain": [
       "array(['No_Data', 'Government Officials', 'Political Group',\n",
       "       'Military Officials', 'Paramilitary Group', 'Criminal Group',\n",
       "       'Unknown Fire', 'Mob Violence', 'Local Residents',\n",
       "       'Government Officials, Paramilitary Group',\n",
       "       'Government Officials, Military Officials',\n",
       "       'Criminal Group, Mob Violence',\n",
       "       'Military Officials, Political Group',\n",
       "       'Criminal Group, Military Officials',\n",
       "       'Local Residents, Political Group',\n",
       "       'Criminal Group, Local Residents', 'na',\n",
       "       'Criminal Group, Government Officials',\n",
       "       'Political Group, Paramilitary Group',\n",
       "       'Criminal Group, Political Group, Government Officials',\n",
       "       'Source of Fire'], dtype=object)"
      ]
     },
     "execution_count": 32,
     "metadata": {},
     "output_type": "execute_result"
    }
   ],
   "source": [
    "data['Source_of_Fire'].unique()"
   ]
  },
  {
   "cell_type": "code",
   "execution_count": 33,
   "id": "4fdbc478",
   "metadata": {
    "execution": {
     "iopub.execute_input": "2022-02-13T05:45:35.183182Z",
     "iopub.status.busy": "2022-02-13T05:45:35.182499Z",
     "iopub.status.idle": "2022-02-13T05:45:35.281686Z",
     "shell.execute_reply": "2022-02-13T05:45:35.281164Z",
     "shell.execute_reply.started": "2022-02-13T05:03:32.228883Z"
    },
    "papermill": {
     "duration": 0.189802,
     "end_time": "2022-02-13T05:45:35.281843",
     "exception": false,
     "start_time": "2022-02-13T05:45:35.092041",
     "status": "completed"
    },
    "tags": []
   },
   "outputs": [
    {
     "data": {
      "text/plain": [
       "array(['No_Data', 'Government Officials', 'Political Group',\n",
       "       'Military Officials', 'Paramilitary Group', 'Criminal Group',\n",
       "       'Unknown Fire', 'Mob Violence', 'Local Residents',\n",
       "       'Government Officials, Paramilitary Group',\n",
       "       'Government Officials, Military Officials',\n",
       "       'Criminal Group, Mob Violence',\n",
       "       'Military Officials, Political Group',\n",
       "       'Criminal Group, Military Officials',\n",
       "       'Local Residents, Political Group',\n",
       "       'Criminal Group, Local Residents',\n",
       "       'Criminal Group, Government Officials',\n",
       "       'Political Group, Paramilitary Group',\n",
       "       'Criminal Group, Political Group, Government Officials'],\n",
       "      dtype=object)"
      ]
     },
     "execution_count": 33,
     "metadata": {},
     "output_type": "execute_result"
    }
   ],
   "source": [
    "for index, row in data.iterrows():\n",
    "    if row['Source_of_Fire'] == 'na':\n",
    "        data.at[index, 'Source_of_Fire'] = \"No_Data\"\n",
    "    elif row['Source_of_Fire'] == 'Source of Fire':\n",
    "        data.at[index, \"Source_of_Fire\"] = \"No_Data\"\n",
    "\n",
    "data['Source_of_Fire'].unique()"
   ]
  },
  {
   "cell_type": "code",
   "execution_count": 34,
   "id": "2345fab1",
   "metadata": {
    "execution": {
     "iopub.execute_input": "2022-02-13T05:45:35.468496Z",
     "iopub.status.busy": "2022-02-13T05:45:35.467760Z",
     "iopub.status.idle": "2022-02-13T05:45:35.469156Z",
     "shell.execute_reply": "2022-02-13T05:45:35.469676Z",
     "shell.execute_reply.started": "2022-02-13T05:03:32.336058Z"
    },
    "papermill": {
     "duration": 0.096875,
     "end_time": "2022-02-13T05:45:35.469881",
     "exception": false,
     "start_time": "2022-02-13T05:45:35.373006",
     "status": "completed"
    },
    "tags": []
   },
   "outputs": [],
   "source": [
    "Firee = ['No_Data', 'Government Officials', 'Political Group',\n",
    "       'Military Officials', 'Paramilitary Group', 'Criminal Group',\n",
    "       'Unknown Fire', 'Mob Violence', 'Local Residents']"
   ]
  },
  {
   "cell_type": "code",
   "execution_count": 35,
   "id": "cea13946",
   "metadata": {
    "execution": {
     "iopub.execute_input": "2022-02-13T05:45:35.653010Z",
     "iopub.status.busy": "2022-02-13T05:45:35.652338Z",
     "iopub.status.idle": "2022-02-13T05:45:35.659506Z",
     "shell.execute_reply": "2022-02-13T05:45:35.660170Z",
     "shell.execute_reply.started": "2022-02-13T05:03:32.341931Z"
    },
    "papermill": {
     "duration": 0.098984,
     "end_time": "2022-02-13T05:45:35.660350",
     "exception": false,
     "start_time": "2022-02-13T05:45:35.561366",
     "status": "completed"
    },
    "tags": []
   },
   "outputs": [
    {
     "data": {
      "text/plain": [
       "[(0, 'No_Data'),\n",
       " (1, 'Government Officials'),\n",
       " (2, 'Political Group'),\n",
       " (3, 'Military Officials'),\n",
       " (4, 'Paramilitary Group'),\n",
       " (5, 'Criminal Group'),\n",
       " (6, 'Unknown Fire'),\n",
       " (7, 'Mob Violence'),\n",
       " (8, 'Local Residents')]"
      ]
     },
     "execution_count": 35,
     "metadata": {},
     "output_type": "execute_result"
    }
   ],
   "source": [
    "S = np.arange(0,9)\n",
    "def merge(list1, list2):\n",
    "      \n",
    "    merged_list = [(list1[i], list2[i]) for i in range(0, len(list1))]\n",
    "    return merged_list\n",
    "S = merge(S, Firee)\n",
    "S"
   ]
  },
  {
   "cell_type": "code",
   "execution_count": 36,
   "id": "2cccf706",
   "metadata": {
    "execution": {
     "iopub.execute_input": "2022-02-13T05:45:35.843798Z",
     "iopub.status.busy": "2022-02-13T05:45:35.843144Z",
     "iopub.status.idle": "2022-02-13T05:45:35.845954Z",
     "shell.execute_reply": "2022-02-13T05:45:35.846496Z",
     "shell.execute_reply.started": "2022-02-13T05:03:32.360441Z"
    },
    "papermill": {
     "duration": 0.097548,
     "end_time": "2022-02-13T05:45:35.846656",
     "exception": false,
     "start_time": "2022-02-13T05:45:35.749108",
     "status": "completed"
    },
    "tags": []
   },
   "outputs": [],
   "source": [
    "V = list(S)"
   ]
  },
  {
   "cell_type": "code",
   "execution_count": 37,
   "id": "6c2f5423",
   "metadata": {
    "execution": {
     "iopub.execute_input": "2022-02-13T05:45:36.031123Z",
     "iopub.status.busy": "2022-02-13T05:45:36.030092Z",
     "iopub.status.idle": "2022-02-13T05:45:36.036322Z",
     "shell.execute_reply": "2022-02-13T05:45:36.036768Z",
     "shell.execute_reply.started": "2022-02-13T05:03:32.451802Z"
    },
    "papermill": {
     "duration": 0.100931,
     "end_time": "2022-02-13T05:45:36.036953",
     "exception": false,
     "start_time": "2022-02-13T05:45:35.936022",
     "status": "completed"
    },
    "tags": []
   },
   "outputs": [
    {
     "data": {
      "text/plain": [
       "[None, None, None, None, None, None, None, None, None]"
      ]
     },
     "execution_count": 37,
     "metadata": {},
     "output_type": "execute_result"
    }
   ],
   "source": [
    "Fire = {}\n",
    "[Fire.update({u:v}) for u,v in V]"
   ]
  },
  {
   "cell_type": "code",
   "execution_count": 38,
   "id": "70087029",
   "metadata": {
    "execution": {
     "iopub.execute_input": "2022-02-13T05:45:36.218536Z",
     "iopub.status.busy": "2022-02-13T05:45:36.217832Z",
     "iopub.status.idle": "2022-02-13T05:45:36.222517Z",
     "shell.execute_reply": "2022-02-13T05:45:36.223090Z",
     "shell.execute_reply.started": "2022-02-13T05:03:32.587277Z"
    },
    "papermill": {
     "duration": 0.096776,
     "end_time": "2022-02-13T05:45:36.223251",
     "exception": false,
     "start_time": "2022-02-13T05:45:36.126475",
     "status": "completed"
    },
    "tags": []
   },
   "outputs": [
    {
     "data": {
      "text/plain": [
       "{0: 'No_Data',\n",
       " 1: 'Government Officials',\n",
       " 2: 'Political Group',\n",
       " 3: 'Military Officials',\n",
       " 4: 'Paramilitary Group',\n",
       " 5: 'Criminal Group',\n",
       " 6: 'Unknown Fire',\n",
       " 7: 'Mob Violence',\n",
       " 8: 'Local Residents'}"
      ]
     },
     "execution_count": 38,
     "metadata": {},
     "output_type": "execute_result"
    }
   ],
   "source": [
    "Fire"
   ]
  },
  {
   "cell_type": "code",
   "execution_count": 39,
   "id": "86785efa",
   "metadata": {
    "execution": {
     "iopub.execute_input": "2022-02-13T05:45:36.407046Z",
     "iopub.status.busy": "2022-02-13T05:45:36.406425Z",
     "iopub.status.idle": "2022-02-13T05:45:36.411929Z",
     "shell.execute_reply": "2022-02-13T05:45:36.412464Z",
     "shell.execute_reply.started": "2022-02-13T05:03:32.594894Z"
    },
    "papermill": {
     "duration": 0.099818,
     "end_time": "2022-02-13T05:45:36.412625",
     "exception": false,
     "start_time": "2022-02-13T05:45:36.312807",
     "status": "completed"
    },
    "tags": []
   },
   "outputs": [
    {
     "name": "stdout",
     "output_type": "stream",
     "text": [
      "No_Data\n",
      "Government Officials\n",
      "Political Group\n",
      "Military Officials\n",
      "Paramilitary Group\n",
      "Criminal Group\n",
      "Unknown Fire\n",
      "Mob Violence\n",
      "Local Residents\n"
     ]
    }
   ],
   "source": [
    "for j in Fire.keys():\n",
    "    print(Fire[j])"
   ]
  },
  {
   "cell_type": "code",
   "execution_count": 40,
   "id": "090b0a47",
   "metadata": {
    "execution": {
     "iopub.execute_input": "2022-02-13T05:45:36.598958Z",
     "iopub.status.busy": "2022-02-13T05:45:36.597950Z",
     "iopub.status.idle": "2022-02-13T05:45:36.786892Z",
     "shell.execute_reply": "2022-02-13T05:45:36.786190Z",
     "shell.execute_reply.started": "2022-02-13T05:03:32.666502Z"
    },
    "papermill": {
     "duration": 0.283409,
     "end_time": "2022-02-13T05:45:36.787054",
     "exception": false,
     "start_time": "2022-02-13T05:45:36.503645",
     "status": "completed"
    },
    "tags": []
   },
   "outputs": [
    {
     "data": {
      "text/plain": [
       "array([[482.,   0.,   0.,   0.,   0.,   0.,   0.,   0.,   0.],\n",
       "       [  0., 165.,   0.,   2.,   1.,   2.,   0.,   0.,   0.],\n",
       "       [  0.,   0., 406.,   5.,   2.,   0.,   0.,   0.,   1.],\n",
       "       [  0.,   2.,   5., 219.,   0.,   1.,   0.,   0.,   0.],\n",
       "       [  0.,   1.,   2.,   0.,  48.,   0.,   0.,   0.,   0.],\n",
       "       [  0.,   2.,   0.,   1.,   0.,  77.,   0.,   1.,   1.],\n",
       "       [  0.,   0.,   0.,   0.,   0.,   0., 191.,   0.,   0.],\n",
       "       [  0.,   0.,   0.,   0.,   0.,   1.,   0.,  13.,   0.],\n",
       "       [  0.,   0.,   1.,   0.,   0.,   1.,   0.,   0.,  23.]])"
      ]
     },
     "execution_count": 40,
     "metadata": {},
     "output_type": "execute_result"
    }
   ],
   "source": [
    "ARR = np.zeros((9,9))\n",
    "for index, row in data.iterrows():\n",
    "    if len(row['Source_of_Fire'].split(',')) == 1:\n",
    "        for j in Fire.keys():\n",
    "            if Fire[j] == row['Source_of_Fire']:\n",
    "                ARR[j][j] += 1\n",
    "    elif len(row['Source_of_Fire'].split(',')) == 2:\n",
    "        for k in Fire.keys():\n",
    "            for l in Fire.keys():\n",
    "                if k == l:\n",
    "                    continue\n",
    "                elif Fire[k] in row['Source_of_Fire']:\n",
    "                    if  Fire[l] in row['Source_of_Fire']:\n",
    "                        ARR[k][l] = ARR[k][l] = ARR[k][l]+ 1\n",
    "\n",
    "      \n",
    "              \n",
    "ARR  \n",
    "    "
   ]
  },
  {
   "cell_type": "markdown",
   "id": "600d220d",
   "metadata": {
    "papermill": {
     "duration": 0.090731,
     "end_time": "2022-02-13T05:45:36.969461",
     "exception": false,
     "start_time": "2022-02-13T05:45:36.878730",
     "status": "completed"
    },
    "tags": []
   },
   "source": [
    "## This is a different kind of visualization\n",
    "## interseting cells are the two source of fire"
   ]
  },
  {
   "cell_type": "code",
   "execution_count": 41,
   "id": "14a3a506",
   "metadata": {
    "execution": {
     "iopub.execute_input": "2022-02-13T05:45:37.154888Z",
     "iopub.status.busy": "2022-02-13T05:45:37.154248Z",
     "iopub.status.idle": "2022-02-13T05:45:37.741932Z",
     "shell.execute_reply": "2022-02-13T05:45:37.742438Z",
     "shell.execute_reply.started": "2022-02-13T05:03:32.862396Z"
    },
    "papermill": {
     "duration": 0.681761,
     "end_time": "2022-02-13T05:45:37.742607",
     "exception": false,
     "start_time": "2022-02-13T05:45:37.060846",
     "status": "completed"
    },
    "tags": []
   },
   "outputs": [
    {
     "data": {
      "image/png": "[encoded data removed]",
      "text/plain": [
       "<Figure size 720x720 with 2 Axes>"
      ]
     },
     "metadata": {
      "needs_background": "light"
     },
     "output_type": "display_data"
    }
   ],
   "source": [
    "cmap = \"tab20\"\n",
    "plt.figure(figsize = (10,10))\n",
    "linewidths = 2\n",
    "linecolor = \"yellow\"\n",
    "sns.heatmap(data = ARR, cmap = cmap, annot = True, center = 0,xticklabels = Firee,\n",
    "            linewidths=linewidths,linecolor=linecolor,yticklabels = Firee)\n",
    "plt.show()"
   ]
  },
  {
   "cell_type": "code",
   "execution_count": 42,
   "id": "10ba082b",
   "metadata": {
    "execution": {
     "iopub.execute_input": "2022-02-13T05:45:37.941887Z",
     "iopub.status.busy": "2022-02-13T05:45:37.941193Z",
     "iopub.status.idle": "2022-02-13T05:45:37.955150Z",
     "shell.execute_reply": "2022-02-13T05:45:37.955694Z",
     "shell.execute_reply.started": "2022-02-13T05:03:33.416721Z"
    },
    "papermill": {
     "duration": 0.119276,
     "end_time": "2022-02-13T05:45:37.955914",
     "exception": false,
     "start_time": "2022-02-13T05:45:37.836638",
     "status": "completed"
    },
    "tags": []
   },
   "outputs": [
    {
     "data": {
      "text/plain": [
       "{'No_Data': 482,\n",
       " 'Political Group': 406,\n",
       " 'Military Officials': 219,\n",
       " 'Unknown Fire': 191,\n",
       " 'Government Officials': 165,\n",
       " 'Criminal Group': 77,\n",
       " 'Paramilitary Group': 48,\n",
       " 'Local Residents': 23,\n",
       " 'Mob Violence': 13,\n",
       " 'Military Officials, Political Group': 5,\n",
       " 'Government Officials, Military Officials': 2,\n",
       " 'Political Group, Paramilitary Group': 2,\n",
       " 'Criminal Group, Government Officials': 2,\n",
       " 'Criminal Group, Local Residents': 1,\n",
       " 'Government Officials, Paramilitary Group': 1,\n",
       " 'Local Residents, Political Group': 1,\n",
       " 'Criminal Group, Military Officials': 1,\n",
       " 'Criminal Group, Mob Violence': 1,\n",
       " 'Criminal Group, Political Group, Government Officials': 1}"
      ]
     },
     "execution_count": 42,
     "metadata": {},
     "output_type": "execute_result"
    }
   ],
   "source": [
    "SoF = {}\n",
    "for kill, source in enumerate(data['Source_of_Fire'].value_counts().index.tolist()):\n",
    "    SoF[source] = data['Source_of_Fire'].value_counts()[kill]\n",
    "SoF"
   ]
  },
  {
   "cell_type": "code",
   "execution_count": 43,
   "id": "46fada8d",
   "metadata": {
    "execution": {
     "iopub.execute_input": "2022-02-13T05:45:38.152270Z",
     "iopub.status.busy": "2022-02-13T05:45:38.148668Z",
     "iopub.status.idle": "2022-02-13T05:45:38.170693Z",
     "shell.execute_reply": "2022-02-13T05:45:38.171222Z",
     "shell.execute_reply.started": "2022-02-13T05:03:33.439132Z"
    },
    "papermill": {
     "duration": 0.121458,
     "end_time": "2022-02-13T05:45:38.171390",
     "exception": false,
     "start_time": "2022-02-13T05:45:38.049932",
     "status": "completed"
    },
    "tags": []
   },
   "outputs": [
    {
     "data": {
      "text/html": [
       "<div>\n",
       "<style scoped>\n",
       "    .dataframe tbody tr th:only-of-type {\n",
       "        vertical-align: middle;\n",
       "    }\n",
       "\n",
       "    .dataframe tbody tr th {\n",
       "        vertical-align: top;\n",
       "    }\n",
       "\n",
       "    .dataframe thead th {\n",
       "        text-align: right;\n",
       "    }\n",
       "</style>\n",
       "<table border=\"1\" class=\"dataframe\">\n",
       "  <thead>\n",
       "    <tr style=\"text-align: right;\">\n",
       "      <th></th>\n",
       "      <th>Date</th>\n",
       "      <th>Name</th>\n",
       "      <th>Sex</th>\n",
       "      <th>Country_Killed</th>\n",
       "      <th>Organization</th>\n",
       "      <th>Nationality</th>\n",
       "      <th>Medium</th>\n",
       "      <th>Job</th>\n",
       "      <th>Coverage</th>\n",
       "      <th>Freelance</th>\n",
       "      <th>Local_or_Foreign</th>\n",
       "      <th>Source_of_Fire</th>\n",
       "      <th>Type_of_Death</th>\n",
       "      <th>Impunity</th>\n",
       "      <th>Taken_Captive</th>\n",
       "      <th>Threatened</th>\n",
       "      <th>Tortured</th>\n",
       "      <th>Year</th>\n",
       "    </tr>\n",
       "  </thead>\n",
       "  <tbody>\n",
       "    <tr>\n",
       "      <th>0</th>\n",
       "      <td>1/1/92</td>\n",
       "      <td>Kladoumbaye Maxime</td>\n",
       "      <td>Male</td>\n",
       "      <td>Chad</td>\n",
       "      <td>Agence Tchadienne de Presse</td>\n",
       "      <td>No_Data</td>\n",
       "      <td>No_Data</td>\n",
       "      <td>No_Data</td>\n",
       "      <td>No_Data</td>\n",
       "      <td>No_Data</td>\n",
       "      <td>No_Data</td>\n",
       "      <td>No_Data</td>\n",
       "      <td>No_Data</td>\n",
       "      <td>No_Data</td>\n",
       "      <td>No_Data</td>\n",
       "      <td>No_Data</td>\n",
       "      <td>No_Data</td>\n",
       "      <td>92</td>\n",
       "    </tr>\n",
       "    <tr>\n",
       "      <th>1</th>\n",
       "      <td>1/3/92</td>\n",
       "      <td>Ram Singh Biling</td>\n",
       "      <td>Male</td>\n",
       "      <td>India</td>\n",
       "      <td>Azdi Awaz, Daily Ajit</td>\n",
       "      <td>India</td>\n",
       "      <td>Print</td>\n",
       "      <td>Print Reporter</td>\n",
       "      <td>Corruption, Human Rights, Politics</td>\n",
       "      <td>Yes</td>\n",
       "      <td>Local</td>\n",
       "      <td>Government Officials</td>\n",
       "      <td>Dangerous Assignment</td>\n",
       "      <td>No_Data</td>\n",
       "      <td>Yes</td>\n",
       "      <td>No</td>\n",
       "      <td>No</td>\n",
       "      <td>92</td>\n",
       "    </tr>\n",
       "    <tr>\n",
       "      <th>2</th>\n",
       "      <td>1/15/92</td>\n",
       "      <td>Mustafa Jeha</td>\n",
       "      <td>Male</td>\n",
       "      <td>Lebanon</td>\n",
       "      <td>Al-Amal</td>\n",
       "      <td>Lebanon</td>\n",
       "      <td>Print</td>\n",
       "      <td>Columnist</td>\n",
       "      <td>Politics</td>\n",
       "      <td>No</td>\n",
       "      <td>Local</td>\n",
       "      <td>Political Group</td>\n",
       "      <td>Murder</td>\n",
       "      <td>Yes</td>\n",
       "      <td>No</td>\n",
       "      <td>No</td>\n",
       "      <td>No</td>\n",
       "      <td>92</td>\n",
       "    </tr>\n",
       "    <tr>\n",
       "      <th>3</th>\n",
       "      <td>1/17/92</td>\n",
       "      <td>Paul Jenks</td>\n",
       "      <td>Male</td>\n",
       "      <td>Croatia</td>\n",
       "      <td>European Pressphoto Agency</td>\n",
       "      <td>United Kingdom</td>\n",
       "      <td>Print</td>\n",
       "      <td>Photographer</td>\n",
       "      <td>War</td>\n",
       "      <td>Yes</td>\n",
       "      <td>Foreign</td>\n",
       "      <td>Military Officials</td>\n",
       "      <td>Crossfire/Combat-Related</td>\n",
       "      <td>No_Data</td>\n",
       "      <td>No</td>\n",
       "      <td>No</td>\n",
       "      <td>No</td>\n",
       "      <td>92</td>\n",
       "    </tr>\n",
       "    <tr>\n",
       "      <th>4</th>\n",
       "      <td>2/9/92</td>\n",
       "      <td>Halit Gungen</td>\n",
       "      <td>Male</td>\n",
       "      <td>Turkey</td>\n",
       "      <td>2000'e Dogru</td>\n",
       "      <td>Turkey</td>\n",
       "      <td>Print</td>\n",
       "      <td>Editor</td>\n",
       "      <td>Corruption, Human Rights, Politics</td>\n",
       "      <td>No</td>\n",
       "      <td>Local</td>\n",
       "      <td>Government Officials</td>\n",
       "      <td>Murder</td>\n",
       "      <td>Yes</td>\n",
       "      <td>No</td>\n",
       "      <td>No</td>\n",
       "      <td>No</td>\n",
       "      <td>92</td>\n",
       "    </tr>\n",
       "    <tr>\n",
       "      <th>...</th>\n",
       "      <td>...</td>\n",
       "      <td>...</td>\n",
       "      <td>...</td>\n",
       "      <td>...</td>\n",
       "      <td>...</td>\n",
       "      <td>...</td>\n",
       "      <td>...</td>\n",
       "      <td>...</td>\n",
       "      <td>...</td>\n",
       "      <td>...</td>\n",
       "      <td>...</td>\n",
       "      <td>...</td>\n",
       "      <td>...</td>\n",
       "      <td>...</td>\n",
       "      <td>...</td>\n",
       "      <td>...</td>\n",
       "      <td>...</td>\n",
       "      <td>...</td>\n",
       "    </tr>\n",
       "    <tr>\n",
       "      <th>1636</th>\n",
       "      <td>on an unknown date (death disclosed February 2...</td>\n",
       "      <td>Fesshaye \"Joshua\" Yohannes</td>\n",
       "      <td>Male</td>\n",
       "      <td>Eritrea</td>\n",
       "      <td>Setit</td>\n",
       "      <td>Eritrea</td>\n",
       "      <td>Print</td>\n",
       "      <td>Editor</td>\n",
       "      <td>Politics</td>\n",
       "      <td>No</td>\n",
       "      <td>Local</td>\n",
       "      <td>Government Officials</td>\n",
       "      <td>Dangerous Assignment</td>\n",
       "      <td>No_Data</td>\n",
       "      <td>Yes</td>\n",
       "      <td>No</td>\n",
       "      <td>No</td>\n",
       "      <td>Unknown</td>\n",
       "    </tr>\n",
       "    <tr>\n",
       "      <th>1637</th>\n",
       "      <td>summer 1993</td>\n",
       "      <td>Zikrullo Valiev</td>\n",
       "      <td>No_Data</td>\n",
       "      <td>Tajikistan</td>\n",
       "      <td>Khalqi Ovozi</td>\n",
       "      <td>No_Data</td>\n",
       "      <td>No_Data</td>\n",
       "      <td>No_Data</td>\n",
       "      <td>No_Data</td>\n",
       "      <td>No_Data</td>\n",
       "      <td>No_Data</td>\n",
       "      <td>No_Data</td>\n",
       "      <td>No_Data</td>\n",
       "      <td>No_Data</td>\n",
       "      <td>No_Data</td>\n",
       "      <td>No_Data</td>\n",
       "      <td>No_Data</td>\n",
       "      <td>93</td>\n",
       "    </tr>\n",
       "    <tr>\n",
       "      <th>1638</th>\n",
       "      <td>Unknown</td>\n",
       "      <td>Fadel al-Hadidi</td>\n",
       "      <td>Male</td>\n",
       "      <td>Iraq</td>\n",
       "      <td>Mosul al-Youm; Sada al-Iraq</td>\n",
       "      <td>Iraq</td>\n",
       "      <td>Print</td>\n",
       "      <td>Columnist, Editor, Print Reporter</td>\n",
       "      <td>Corruption, Human Rights, Politics, War</td>\n",
       "      <td>No</td>\n",
       "      <td>Local</td>\n",
       "      <td>Political Group</td>\n",
       "      <td>Murder</td>\n",
       "      <td>Yes</td>\n",
       "      <td>Yes</td>\n",
       "      <td>No</td>\n",
       "      <td>No</td>\n",
       "      <td>Unknown</td>\n",
       "    </tr>\n",
       "    <tr>\n",
       "      <th>1639</th>\n",
       "      <td>Unknown</td>\n",
       "      <td>Bilal Ahmed Bilal</td>\n",
       "      <td>Male</td>\n",
       "      <td>Syria</td>\n",
       "      <td>Palestine Today TV</td>\n",
       "      <td>Syria</td>\n",
       "      <td>Television</td>\n",
       "      <td>Broadcast, Producer</td>\n",
       "      <td>Human Rights, Politics, War</td>\n",
       "      <td>No</td>\n",
       "      <td>Local</td>\n",
       "      <td>Government Officials</td>\n",
       "      <td>Dangerous Assignment</td>\n",
       "      <td>No_Data</td>\n",
       "      <td>No</td>\n",
       "      <td>No</td>\n",
       "      <td>Yes</td>\n",
       "      <td>Unknown</td>\n",
       "    </tr>\n",
       "    <tr>\n",
       "      <th>1640</th>\n",
       "      <td>Unknown</td>\n",
       "      <td>Abdul Raheem Kour Hassan</td>\n",
       "      <td>Male</td>\n",
       "      <td>Syria</td>\n",
       "      <td>Watan FM</td>\n",
       "      <td>Syria</td>\n",
       "      <td>Radio, Internet</td>\n",
       "      <td>Broadcast, Photographer, Publisher</td>\n",
       "      <td>Human Rights, Politics, War</td>\n",
       "      <td>No</td>\n",
       "      <td>Local</td>\n",
       "      <td>Government Officials</td>\n",
       "      <td>Dangerous Assignment</td>\n",
       "      <td>No_Data</td>\n",
       "      <td>Yes</td>\n",
       "      <td>No</td>\n",
       "      <td>Yes</td>\n",
       "      <td>Unknown</td>\n",
       "    </tr>\n",
       "  </tbody>\n",
       "</table>\n",
       "<p>1641 rows × 18 columns</p>\n",
       "</div>"
      ],
      "text/plain": [
       "                                                   Date  \\\n",
       "0                                                1/1/92   \n",
       "1                                                1/3/92   \n",
       "2                                               1/15/92   \n",
       "3                                               1/17/92   \n",
       "4                                                2/9/92   \n",
       "...                                                 ...   \n",
       "1636  on an unknown date (death disclosed February 2...   \n",
       "1637                                        summer 1993   \n",
       "1638                                            Unknown   \n",
       "1639                                            Unknown   \n",
       "1640                                            Unknown   \n",
       "\n",
       "                            Name      Sex Country_Killed  \\\n",
       "0             Kladoumbaye Maxime     Male           Chad   \n",
       "1               Ram Singh Biling     Male          India   \n",
       "2                   Mustafa Jeha     Male        Lebanon   \n",
       "3                     Paul Jenks     Male        Croatia   \n",
       "4                   Halit Gungen     Male         Turkey   \n",
       "...                          ...      ...            ...   \n",
       "1636  Fesshaye \"Joshua\" Yohannes     Male        Eritrea   \n",
       "1637             Zikrullo Valiev  No_Data     Tajikistan   \n",
       "1638             Fadel al-Hadidi     Male           Iraq   \n",
       "1639           Bilal Ahmed Bilal     Male          Syria   \n",
       "1640    Abdul Raheem Kour Hassan     Male          Syria   \n",
       "\n",
       "                     Organization     Nationality           Medium  \\\n",
       "0     Agence Tchadienne de Presse         No_Data          No_Data   \n",
       "1           Azdi Awaz, Daily Ajit           India            Print   \n",
       "2                         Al-Amal         Lebanon            Print   \n",
       "3      European Pressphoto Agency  United Kingdom            Print   \n",
       "4                    2000'e Dogru          Turkey            Print   \n",
       "...                           ...             ...              ...   \n",
       "1636                        Setit         Eritrea            Print   \n",
       "1637                 Khalqi Ovozi         No_Data          No_Data   \n",
       "1638  Mosul al-Youm; Sada al-Iraq            Iraq            Print   \n",
       "1639           Palestine Today TV           Syria       Television   \n",
       "1640                     Watan FM           Syria  Radio, Internet   \n",
       "\n",
       "                                     Job  \\\n",
       "0                                No_Data   \n",
       "1                         Print Reporter   \n",
       "2                              Columnist   \n",
       "3                           Photographer   \n",
       "4                                 Editor   \n",
       "...                                  ...   \n",
       "1636                              Editor   \n",
       "1637                             No_Data   \n",
       "1638   Columnist, Editor, Print Reporter   \n",
       "1639                 Broadcast, Producer   \n",
       "1640  Broadcast, Photographer, Publisher   \n",
       "\n",
       "                                     Coverage Freelance Local_or_Foreign  \\\n",
       "0                                     No_Data   No_Data          No_Data   \n",
       "1          Corruption, Human Rights, Politics       Yes            Local   \n",
       "2                                    Politics        No            Local   \n",
       "3                                         War       Yes          Foreign   \n",
       "4          Corruption, Human Rights, Politics        No            Local   \n",
       "...                                       ...       ...              ...   \n",
       "1636                                 Politics        No            Local   \n",
       "1637                                  No_Data   No_Data          No_Data   \n",
       "1638  Corruption, Human Rights, Politics, War        No            Local   \n",
       "1639              Human Rights, Politics, War        No            Local   \n",
       "1640              Human Rights, Politics, War        No            Local   \n",
       "\n",
       "            Source_of_Fire             Type_of_Death Impunity Taken_Captive  \\\n",
       "0                  No_Data                   No_Data  No_Data       No_Data   \n",
       "1     Government Officials      Dangerous Assignment  No_Data           Yes   \n",
       "2          Political Group                    Murder      Yes            No   \n",
       "3       Military Officials  Crossfire/Combat-Related  No_Data            No   \n",
       "4     Government Officials                    Murder      Yes            No   \n",
       "...                    ...                       ...      ...           ...   \n",
       "1636  Government Officials      Dangerous Assignment  No_Data           Yes   \n",
       "1637               No_Data                   No_Data  No_Data       No_Data   \n",
       "1638       Political Group                    Murder      Yes           Yes   \n",
       "1639  Government Officials      Dangerous Assignment  No_Data            No   \n",
       "1640  Government Officials      Dangerous Assignment  No_Data           Yes   \n",
       "\n",
       "     Threatened Tortured     Year  \n",
       "0       No_Data  No_Data       92  \n",
       "1            No       No       92  \n",
       "2            No       No       92  \n",
       "3            No       No       92  \n",
       "4            No       No       92  \n",
       "...         ...      ...      ...  \n",
       "1636         No       No  Unknown  \n",
       "1637    No_Data  No_Data       93  \n",
       "1638         No       No  Unknown  \n",
       "1639         No      Yes  Unknown  \n",
       "1640         No      Yes  Unknown  \n",
       "\n",
       "[1641 rows x 18 columns]"
      ]
     },
     "execution_count": 43,
     "metadata": {},
     "output_type": "execute_result"
    }
   ],
   "source": [
    "data"
   ]
  },
  {
   "cell_type": "code",
   "execution_count": 44,
   "id": "14cd6614",
   "metadata": {
    "execution": {
     "iopub.execute_input": "2022-02-13T05:45:38.363549Z",
     "iopub.status.busy": "2022-02-13T05:45:38.362853Z",
     "iopub.status.idle": "2022-02-13T05:45:38.367872Z",
     "shell.execute_reply": "2022-02-13T05:45:38.368382Z",
     "shell.execute_reply.started": "2022-02-13T05:03:33.467170Z"
    },
    "papermill": {
     "duration": 0.102823,
     "end_time": "2022-02-13T05:45:38.368558",
     "exception": false,
     "start_time": "2022-02-13T05:45:38.265735",
     "status": "completed"
    },
    "tags": []
   },
   "outputs": [
    {
     "data": {
      "text/plain": [
       "array(['No_Data', 'No', 'Yes', 'na', 'Tortured'], dtype=object)"
      ]
     },
     "execution_count": 44,
     "metadata": {},
     "output_type": "execute_result"
    }
   ],
   "source": [
    "data['Tortured'].unique()"
   ]
  },
  {
   "cell_type": "code",
   "execution_count": 45,
   "id": "24d6c602",
   "metadata": {
    "execution": {
     "iopub.execute_input": "2022-02-13T05:45:38.561052Z",
     "iopub.status.busy": "2022-02-13T05:45:38.560381Z",
     "iopub.status.idle": "2022-02-13T05:45:38.655430Z",
     "shell.execute_reply": "2022-02-13T05:45:38.655966Z",
     "shell.execute_reply.started": "2022-02-13T05:03:33.476488Z"
    },
    "papermill": {
     "duration": 0.192984,
     "end_time": "2022-02-13T05:45:38.656199",
     "exception": false,
     "start_time": "2022-02-13T05:45:38.463215",
     "status": "completed"
    },
    "tags": []
   },
   "outputs": [],
   "source": [
    "for index, row in data.iterrows():\n",
    "    if row['Tortured'] == 'na':\n",
    "        data.at[index, 'Tortured'] = \"No_Data\"\n",
    "    elif row['Tortured'] == 'Tortured':\n",
    "        data.at[index, \"Tortured\"] = \"No_Data\""
   ]
  },
  {
   "cell_type": "markdown",
   "id": "e97f87b7",
   "metadata": {
    "papermill": {
     "duration": 0.096459,
     "end_time": "2022-02-13T05:45:38.848227",
     "exception": false,
     "start_time": "2022-02-13T05:45:38.751768",
     "status": "completed"
    },
    "tags": []
   },
   "source": [
    "## are the tourtured or not"
   ]
  },
  {
   "cell_type": "code",
   "execution_count": 46,
   "id": "e8de4b15",
   "metadata": {
    "execution": {
     "iopub.execute_input": "2022-02-13T05:45:39.041498Z",
     "iopub.status.busy": "2022-02-13T05:45:39.040850Z",
     "iopub.status.idle": "2022-02-13T05:45:39.258047Z",
     "shell.execute_reply": "2022-02-13T05:45:39.257371Z",
     "shell.execute_reply.started": "2022-02-13T05:03:33.578966Z"
    },
    "papermill": {
     "duration": 0.315129,
     "end_time": "2022-02-13T05:45:39.258205",
     "exception": false,
     "start_time": "2022-02-13T05:45:38.943076",
     "status": "completed"
    },
    "tags": []
   },
   "outputs": [
    {
     "data": {
      "image/png": "[encoded data removed]",
      "text/plain": [
       "<Figure size 432x288 with 1 Axes>"
      ]
     },
     "metadata": {
      "needs_background": "light"
     },
     "output_type": "display_data"
    }
   ],
   "source": [
    "sns.countplot(x = \"Tortured\", data = data,hue = \"Sex\", palette = 'bright')\n",
    "plt.show()"
   ]
  },
  {
   "cell_type": "code",
   "execution_count": 47,
   "id": "2b111e78",
   "metadata": {
    "execution": {
     "iopub.execute_input": "2022-02-13T05:45:39.458486Z",
     "iopub.status.busy": "2022-02-13T05:45:39.457746Z",
     "iopub.status.idle": "2022-02-13T05:45:39.461360Z",
     "shell.execute_reply": "2022-02-13T05:45:39.460840Z",
     "shell.execute_reply.started": "2022-02-13T05:03:33.788484Z"
    },
    "papermill": {
     "duration": 0.107103,
     "end_time": "2022-02-13T05:45:39.461498",
     "exception": false,
     "start_time": "2022-02-13T05:45:39.354395",
     "status": "completed"
    },
    "tags": []
   },
   "outputs": [
    {
     "data": {
      "text/plain": [
       "array(['No_Data', 'No', 'Yes', 'No ', ' Yes', 'na', 'Threatened'],\n",
       "      dtype=object)"
      ]
     },
     "execution_count": 47,
     "metadata": {},
     "output_type": "execute_result"
    }
   ],
   "source": [
    "data['Threatened'].unique()"
   ]
  },
  {
   "cell_type": "code",
   "execution_count": 48,
   "id": "fbab2dc5",
   "metadata": {
    "execution": {
     "iopub.execute_input": "2022-02-13T05:45:39.664984Z",
     "iopub.status.busy": "2022-02-13T05:45:39.664295Z",
     "iopub.status.idle": "2022-02-13T05:45:39.774081Z",
     "shell.execute_reply": "2022-02-13T05:45:39.773519Z",
     "shell.execute_reply.started": "2022-02-13T05:03:33.797291Z"
    },
    "papermill": {
     "duration": 0.214654,
     "end_time": "2022-02-13T05:45:39.774230",
     "exception": false,
     "start_time": "2022-02-13T05:45:39.559576",
     "status": "completed"
    },
    "tags": []
   },
   "outputs": [],
   "source": [
    "for index, row in data.iterrows():\n",
    "    if row['Threatened'] == 'na':\n",
    "        data.at[index, 'Threatened'] = \"No_Data\"\n",
    "    elif row['Threatened'] == 'Threatened':\n",
    "        data.at[index, \"Threatened\"] = \"No_Data\"\n",
    "    elif row['Threatened'] == 'No ':\n",
    "        data.at[index, \"Threatened\"] = \"No\"\n",
    "    elif row['Threatened'] == ' Yes':\n",
    "        data.at[index, \"Threatened\"] = \"Yes\""
   ]
  },
  {
   "cell_type": "markdown",
   "id": "66b4f958",
   "metadata": {
    "papermill": {
     "duration": 0.09596,
     "end_time": "2022-02-13T05:45:39.966426",
     "exception": false,
     "start_time": "2022-02-13T05:45:39.870466",
     "status": "completed"
    },
    "tags": []
   },
   "source": [
    "## are they threatened or not"
   ]
  },
  {
   "cell_type": "code",
   "execution_count": 49,
   "id": "cb4ddd08",
   "metadata": {
    "execution": {
     "iopub.execute_input": "2022-02-13T05:45:40.168574Z",
     "iopub.status.busy": "2022-02-13T05:45:40.167928Z",
     "iopub.status.idle": "2022-02-13T05:45:40.506268Z",
     "shell.execute_reply": "2022-02-13T05:45:40.505608Z",
     "shell.execute_reply.started": "2022-02-13T05:03:33.921944Z"
    },
    "papermill": {
     "duration": 0.442489,
     "end_time": "2022-02-13T05:45:40.506406",
     "exception": false,
     "start_time": "2022-02-13T05:45:40.063917",
     "status": "completed"
    },
    "tags": []
   },
   "outputs": [
    {
     "data": {
      "image/png": "[encoded data removed]",
      "text/plain": [
       "<Figure size 432x288 with 1 Axes>"
      ]
     },
     "metadata": {
      "needs_background": "light"
     },
     "output_type": "display_data"
    }
   ],
   "source": [
    "sns.countplot(x = \"Threatened\", data = data,hue = \"Sex\", palette = 'bright')\n",
    "plt.show()"
   ]
  },
  {
   "cell_type": "code",
   "execution_count": 50,
   "id": "10d5bca1",
   "metadata": {
    "execution": {
     "iopub.execute_input": "2022-02-13T05:45:40.706446Z",
     "iopub.status.busy": "2022-02-13T05:45:40.705663Z",
     "iopub.status.idle": "2022-02-13T05:45:40.708884Z",
     "shell.execute_reply": "2022-02-13T05:45:40.709358Z",
     "shell.execute_reply.started": "2022-02-13T05:03:34.271740Z"
    },
    "papermill": {
     "duration": 0.105615,
     "end_time": "2022-02-13T05:45:40.709527",
     "exception": false,
     "start_time": "2022-02-13T05:45:40.603912",
     "status": "completed"
    },
    "tags": []
   },
   "outputs": [
    {
     "data": {
      "text/plain": [
       "array(['No_Data', 'Dangerous Assignment', 'Murder',\n",
       "       'Crossfire/Combat-Related', 'Unknown', 'na', 'Crossfire',\n",
       "       '\\nSuspected Source of Fire:', 'Type of Death'], dtype=object)"
      ]
     },
     "execution_count": 50,
     "metadata": {},
     "output_type": "execute_result"
    }
   ],
   "source": [
    "data['Type_of_Death'].unique()"
   ]
  },
  {
   "cell_type": "code",
   "execution_count": 51,
   "id": "b46288b2",
   "metadata": {
    "execution": {
     "iopub.execute_input": "2022-02-13T05:45:40.913655Z",
     "iopub.status.busy": "2022-02-13T05:45:40.912998Z",
     "iopub.status.idle": "2022-02-13T05:45:41.013644Z",
     "shell.execute_reply": "2022-02-13T05:45:41.013101Z",
     "shell.execute_reply.started": "2022-02-13T05:03:34.280426Z"
    },
    "papermill": {
     "duration": 0.20609,
     "end_time": "2022-02-13T05:45:41.013794",
     "exception": false,
     "start_time": "2022-02-13T05:45:40.807704",
     "status": "completed"
    },
    "tags": []
   },
   "outputs": [],
   "source": [
    "for index, row in data.iterrows():\n",
    "    if row['Type_of_Death'] == \"na\":\n",
    "        data.at[index, 'Type_of_Death'] = 'No_Data'\n",
    "    elif row['Type_of_Death'] == \"Type of Death\":\n",
    "        data.at[index, 'Type_of_Death'] = 'No_Data'\n",
    "    elif row['Type_of_Death'] == '\\nSuspected Source of Fire:':\n",
    "        data.at[index, 'Type_of_Death'] = 'Suspected Source of Fire'"
   ]
  },
  {
   "cell_type": "markdown",
   "id": "3e35f937",
   "metadata": {
    "papermill": {
     "duration": 0.096374,
     "end_time": "2022-02-13T05:45:41.207447",
     "exception": false,
     "start_time": "2022-02-13T05:45:41.111073",
     "status": "completed"
    },
    "tags": []
   },
   "source": [
    "## a histogram of type of death"
   ]
  },
  {
   "cell_type": "code",
   "execution_count": 52,
   "id": "cb4f4330",
   "metadata": {
    "execution": {
     "iopub.execute_input": "2022-02-13T05:45:41.408871Z",
     "iopub.status.busy": "2022-02-13T05:45:41.408187Z",
     "iopub.status.idle": "2022-02-13T05:45:41.615302Z",
     "shell.execute_reply": "2022-02-13T05:45:41.615843Z",
     "shell.execute_reply.started": "2022-02-13T05:03:34.391552Z"
    },
    "papermill": {
     "duration": 0.311634,
     "end_time": "2022-02-13T05:45:41.616014",
     "exception": false,
     "start_time": "2022-02-13T05:45:41.304380",
     "status": "completed"
    },
    "tags": []
   },
   "outputs": [
    {
     "data": {
      "image/png": "[encoded data removed]",
      "text/plain": [
       "<Figure size 1152x576 with 1 Axes>"
      ]
     },
     "metadata": {
      "needs_background": "light"
     },
     "output_type": "display_data"
    }
   ],
   "source": [
    "bins = np.array(data['Type_of_Death'].unique())\n",
    "ax = np.array(data['Type_of_Death'])\n",
    "plt.figure(figsize= (16,8))\n",
    "plt.hist(ax, bins)\n",
    "plt.title(\"Type of death\")\n",
    "plt.show()"
   ]
  },
  {
   "cell_type": "code",
   "execution_count": 53,
   "id": "b5d5d2ef",
   "metadata": {
    "execution": {
     "iopub.execute_input": "2022-02-13T05:45:41.816257Z",
     "iopub.status.busy": "2022-02-13T05:45:41.815525Z",
     "iopub.status.idle": "2022-02-13T05:45:41.820484Z",
     "shell.execute_reply": "2022-02-13T05:45:41.821005Z",
     "shell.execute_reply.started": "2022-02-13T05:03:34.601889Z"
    },
    "papermill": {
     "duration": 0.106174,
     "end_time": "2022-02-13T05:45:41.821174",
     "exception": false,
     "start_time": "2022-02-13T05:45:41.715000",
     "status": "completed"
    },
    "tags": []
   },
   "outputs": [
    {
     "data": {
      "text/plain": [
       "array(['No_Data', 'Print', 'Radio', 'Television', 'Print, Television',\n",
       "       'Radio, Television', 'Print, Radio', 'Internet', 'Print, Internet',\n",
       "       'Print, Television, Internet', 'Print, Radio, Television',\n",
       "       'Print, Radio, Internet', 'Television, Internet',\n",
       "       'Radio, Internet', 'Radio, Television, Internet', 'na',\n",
       "       'Internet, Television',\n",
       "       'Photographer, Internet Reporter, Print Reporter', 'Medium'],\n",
       "      dtype=object)"
      ]
     },
     "execution_count": 53,
     "metadata": {},
     "output_type": "execute_result"
    }
   ],
   "source": [
    "data['Medium'].unique()"
   ]
  },
  {
   "cell_type": "code",
   "execution_count": 54,
   "id": "4ff23e49",
   "metadata": {
    "execution": {
     "iopub.execute_input": "2022-02-13T05:45:42.023959Z",
     "iopub.status.busy": "2022-02-13T05:45:42.023329Z",
     "iopub.status.idle": "2022-02-13T05:45:42.042721Z",
     "shell.execute_reply": "2022-02-13T05:45:42.043429Z",
     "shell.execute_reply.started": "2022-02-13T05:03:34.610554Z"
    },
    "papermill": {
     "duration": 0.122553,
     "end_time": "2022-02-13T05:45:42.043636",
     "exception": false,
     "start_time": "2022-02-13T05:45:41.921083",
     "status": "completed"
    },
    "tags": []
   },
   "outputs": [
    {
     "data": {
      "text/plain": [
       "{'No_Data': 466,\n",
       " 'Print': 463,\n",
       " 'Television': 311,\n",
       " 'Radio': 141,\n",
       " 'Internet': 87,\n",
       " 'Print, Internet': 51,\n",
       " 'Television, Internet': 30,\n",
       " 'Radio, Television': 21,\n",
       " 'Print, Radio': 18,\n",
       " 'Print, Television': 16,\n",
       " 'na': 14,\n",
       " 'Radio, Internet': 8,\n",
       " 'Internet, Television': 4,\n",
       " 'Print, Radio, Television': 3,\n",
       " 'Print, Television, Internet': 2,\n",
       " 'Print, Radio, Internet': 2,\n",
       " 'Medium': 2,\n",
       " 'Radio, Television, Internet': 1,\n",
       " 'Photographer, Internet Reporter, Print Reporter': 1}"
      ]
     },
     "execution_count": 54,
     "metadata": {},
     "output_type": "execute_result"
    }
   ],
   "source": [
    "medium = {}\n",
    "for kill, med in enumerate(data['Medium'].value_counts().index.tolist()):\n",
    "    medium[med] = data['Medium'].value_counts()[kill]\n",
    "medium"
   ]
  },
  {
   "cell_type": "code",
   "execution_count": 55,
   "id": "8536b602",
   "metadata": {
    "execution": {
     "iopub.execute_input": "2022-02-13T05:45:42.244619Z",
     "iopub.status.busy": "2022-02-13T05:45:42.243924Z",
     "iopub.status.idle": "2022-02-13T05:45:42.250617Z",
     "shell.execute_reply": "2022-02-13T05:45:42.251183Z",
     "shell.execute_reply.started": "2022-02-13T05:03:34.638792Z"
    },
    "papermill": {
     "duration": 0.10814,
     "end_time": "2022-02-13T05:45:42.251348",
     "exception": false,
     "start_time": "2022-02-13T05:45:42.143208",
     "status": "completed"
    },
    "tags": []
   },
   "outputs": [
    {
     "data": {
      "text/plain": [
       "{0: 'Print', 1: 'Television', 2: 'Radio', 3: 'Internet'}"
      ]
     },
     "execution_count": 55,
     "metadata": {},
     "output_type": "execute_result"
    }
   ],
   "source": [
    "med_kil = [\"Print\",\"Television\", \"Radio\",\"Internet\"]\n",
    "S1 = np.arange(0,4)\n",
    "S1 = merge(S1, med_kil)\n",
    "C = list(S1)\n",
    "med_kill = {}\n",
    "[med_kill.update({u:v}) for u, v in C]\n",
    "med_kill"
   ]
  },
  {
   "cell_type": "code",
   "execution_count": 56,
   "id": "66aac843",
   "metadata": {
    "execution": {
     "iopub.execute_input": "2022-02-13T05:45:42.455144Z",
     "iopub.status.busy": "2022-02-13T05:45:42.454505Z",
     "iopub.status.idle": "2022-02-13T05:45:42.602184Z",
     "shell.execute_reply": "2022-02-13T05:45:42.601508Z",
     "shell.execute_reply.started": "2022-02-13T05:03:34.647303Z"
    },
    "papermill": {
     "duration": 0.251353,
     "end_time": "2022-02-13T05:45:42.602336",
     "exception": false,
     "start_time": "2022-02-13T05:45:42.350983",
     "status": "completed"
    },
    "tags": []
   },
   "outputs": [
    {
     "data": {
      "text/plain": [
       "array([[463.,  16.,  18.,  51.],\n",
       "       [ 16., 311.,  21.,  34.],\n",
       "       [ 18.,  21., 141.,   8.],\n",
       "       [ 51.,  34.,   8.,  87.]])"
      ]
     },
     "execution_count": 56,
     "metadata": {},
     "output_type": "execute_result"
    }
   ],
   "source": [
    "Arr = np.zeros((4,4))\n",
    "for index, row in data.iterrows():\n",
    "    if len(row['Medium'].split(',')) == 1:\n",
    "        for j in med_kill.keys():\n",
    "            if med_kill[j] == row['Medium']:\n",
    "                Arr[j][j] += 1\n",
    "    elif len(row['Medium'].split(',')) == 2:\n",
    "        for k in med_kill.keys():\n",
    "            for l in med_kill.keys():\n",
    "                if k == l:\n",
    "                    continue\n",
    "                elif med_kill[k] in row['Medium']:\n",
    "                    if med_kill[l] in row['Medium']:\n",
    "                        Arr[k][l] =  Arr[k][l]+ 1\n",
    "\n",
    "Arr"
   ]
  },
  {
   "cell_type": "markdown",
   "id": "5637bac9",
   "metadata": {
    "papermill": {
     "duration": 0.100021,
     "end_time": "2022-02-13T05:45:42.803566",
     "exception": false,
     "start_time": "2022-02-13T05:45:42.703545",
     "status": "completed"
    },
    "tags": []
   },
   "source": [
    "## the same visualization matrix for medium"
   ]
  },
  {
   "cell_type": "code",
   "execution_count": 57,
   "id": "8c0fcf55",
   "metadata": {
    "execution": {
     "iopub.execute_input": "2022-02-13T05:45:43.008172Z",
     "iopub.status.busy": "2022-02-13T05:45:43.007464Z",
     "iopub.status.idle": "2022-02-13T05:45:43.269305Z",
     "shell.execute_reply": "2022-02-13T05:45:43.269778Z",
     "shell.execute_reply.started": "2022-02-13T05:03:34.800923Z"
    },
    "papermill": {
     "duration": 0.3662,
     "end_time": "2022-02-13T05:45:43.269961",
     "exception": false,
     "start_time": "2022-02-13T05:45:42.903761",
     "status": "completed"
    },
    "tags": []
   },
   "outputs": [
    {
     "data": {
      "image/png": "[encoded data removed]",
      "text/plain": [
       "<Figure size 720x720 with 2 Axes>"
      ]
     },
     "metadata": {
      "needs_background": "light"
     },
     "output_type": "display_data"
    }
   ],
   "source": [
    "cmap = \"PiYG\"\n",
    "plt.figure(figsize = (10,10))\n",
    "linewidths = 2\n",
    "linecolor = \"yellow\"\n",
    "sns.heatmap(data = Arr, cmap = cmap, annot = True, center = 0,xticklabels = med_kil,\n",
    "            linewidths=linewidths,linecolor=linecolor,yticklabels = med_kil)\n",
    "plt.show()"
   ]
  },
  {
   "cell_type": "code",
   "execution_count": 58,
   "id": "c43e137c",
   "metadata": {
    "execution": {
     "iopub.execute_input": "2022-02-13T05:45:43.474714Z",
     "iopub.status.busy": "2022-02-13T05:45:43.474102Z",
     "iopub.status.idle": "2022-02-13T05:45:43.479878Z",
     "shell.execute_reply": "2022-02-13T05:45:43.480377Z",
     "shell.execute_reply.started": "2022-02-13T05:03:35.070858Z"
    },
    "papermill": {
     "duration": 0.110458,
     "end_time": "2022-02-13T05:45:43.480538",
     "exception": false,
     "start_time": "2022-02-13T05:45:43.370080",
     "status": "completed"
    },
    "tags": []
   },
   "outputs": [],
   "source": [
    "data['Coverage'].unique()\n",
    "def unique_string(X):\n",
    "    D = []\n",
    "    for i in X:\n",
    "        s = i.split(',')\n",
    "        for j in s:\n",
    "            if j[0:1] == \" \":\n",
    "                    j = j[1:]\n",
    "            if j in D:\n",
    "                continue\n",
    "            else :\n",
    "                D.append(j)\n",
    "    return D\n",
    "\n"
   ]
  },
  {
   "cell_type": "code",
   "execution_count": 59,
   "id": "8b338a80",
   "metadata": {
    "execution": {
     "iopub.execute_input": "2022-02-13T05:45:43.683216Z",
     "iopub.status.busy": "2022-02-13T05:45:43.682582Z",
     "iopub.status.idle": "2022-02-13T05:45:43.687758Z",
     "shell.execute_reply": "2022-02-13T05:45:43.688271Z",
     "shell.execute_reply.started": "2022-02-13T05:03:35.078198Z"
    },
    "papermill": {
     "duration": 0.108431,
     "end_time": "2022-02-13T05:45:43.688429",
     "exception": false,
     "start_time": "2022-02-13T05:45:43.579998",
     "status": "completed"
    },
    "tags": []
   },
   "outputs": [
    {
     "data": {
      "text/plain": [
       "['No_Data',\n",
       " 'Corruption',\n",
       " 'Human Rights',\n",
       " 'Politics',\n",
       " 'War',\n",
       " 'Crime',\n",
       " 'Culture',\n",
       " 'Business',\n",
       " 'Sports',\n",
       " 'na',\n",
       " 'Coverage']"
      ]
     },
     "execution_count": 59,
     "metadata": {},
     "output_type": "execute_result"
    }
   ],
   "source": [
    "unique_string(data['Coverage'].unique())"
   ]
  },
  {
   "cell_type": "code",
   "execution_count": 60,
   "id": "7275f6dd",
   "metadata": {
    "execution": {
     "iopub.execute_input": "2022-02-13T05:45:43.894843Z",
     "iopub.status.busy": "2022-02-13T05:45:43.894210Z",
     "iopub.status.idle": "2022-02-13T05:45:43.990182Z",
     "shell.execute_reply": "2022-02-13T05:45:43.990717Z",
     "shell.execute_reply.started": "2022-02-13T05:03:35.092857Z"
    },
    "papermill": {
     "duration": 0.202391,
     "end_time": "2022-02-13T05:45:43.990903",
     "exception": false,
     "start_time": "2022-02-13T05:45:43.788512",
     "status": "completed"
    },
    "tags": []
   },
   "outputs": [],
   "source": [
    "for index, row in data.iterrows():\n",
    "    if row['Coverage'] == \"na\":\n",
    "        data.at[index, 'Coverage'] = 'No_Data'\n",
    "    elif row['Coverage'] == 'Coverage':\n",
    "        data.at[index, 'Coverage'] = 'No_Data'"
   ]
  },
  {
   "cell_type": "code",
   "execution_count": 61,
   "id": "b7529f05",
   "metadata": {
    "execution": {
     "iopub.execute_input": "2022-02-13T05:45:44.196082Z",
     "iopub.status.busy": "2022-02-13T05:45:44.195465Z",
     "iopub.status.idle": "2022-02-13T05:45:44.248791Z",
     "shell.execute_reply": "2022-02-13T05:45:44.248260Z",
     "shell.execute_reply.started": "2022-02-13T05:03:35.199676Z"
    },
    "papermill": {
     "duration": 0.15656,
     "end_time": "2022-02-13T05:45:44.248945",
     "exception": false,
     "start_time": "2022-02-13T05:45:44.092385",
     "status": "completed"
    },
    "tags": []
   },
   "outputs": [
    {
     "data": {
      "text/plain": [
       "{'No_Data': 518,\n",
       " 'War': 277,\n",
       " 'Politics': 169,\n",
       " 'Politics, War': 93,\n",
       " 'Human Rights, Politics, War': 53,\n",
       " 'Corruption': 44,\n",
       " 'Human Rights, War': 42,\n",
       " 'Corruption, Crime': 40,\n",
       " 'Crime': 39,\n",
       " 'Corruption, Politics': 39,\n",
       " 'Human Rights, Politics': 37,\n",
       " 'Human Rights': 34,\n",
       " 'Culture': 27,\n",
       " 'Culture, Politics': 25,\n",
       " 'Culture, Human Rights, Politics': 19,\n",
       " 'Corruption, Human Rights, Politics': 14,\n",
       " 'Corruption, Crime, Politics': 12,\n",
       " 'Culture, Sports': 12,\n",
       " 'Crime, Politics': 10,\n",
       " 'Culture, War': 8,\n",
       " 'Business, Culture, Politics': 7,\n",
       " 'Sports': 6,\n",
       " 'Business, Culture': 6,\n",
       " 'Culture, Politics, War': 6,\n",
       " 'Business, Corruption, Crime': 5,\n",
       " 'Culture, Human Rights, Politics, War': 5,\n",
       " 'Corruption, Human Rights, Politics, War': 5,\n",
       " 'Corruption, Human Rights': 5,\n",
       " 'Crime, Human Rights, Politics': 5,\n",
       " 'Business': 4,\n",
       " 'Business, Corruption': 4,\n",
       " 'Business, Corruption, Crime, Culture, Human Rights, Politics, Sports': 4,\n",
       " 'Corruption, Human Rights, War': 4,\n",
       " 'War, Human Rights': 3,\n",
       " 'Business, Corruption, Politics': 3,\n",
       " 'Business, Crime': 3,\n",
       " 'Corruption, Crime, Human Rights, Politics': 3,\n",
       " 'Business, Politics': 3,\n",
       " 'Corruption, Crime, Human Rights': 3,\n",
       " 'Crime, Politics, War': 2,\n",
       " 'Business, Corruption, Crime, Human Rights, Politics': 2,\n",
       " 'Corruption, Crime, War': 2,\n",
       " 'Crime, Culture, Politics': 2,\n",
       " 'Business, Culture, Human Rights, Politics': 2,\n",
       " 'Corruption, Culture, Politics': 2,\n",
       " 'Corruption, Culture, Politics, War': 2,\n",
       " 'Corruption, War': 2,\n",
       " 'Business, Corruption, Crime, Politics': 2,\n",
       " 'Politics, Culture, Human Rights, Sports, Business': 1,\n",
       " 'Corruption, Crime, Culture, Politics, War': 1,\n",
       " 'Corruption, Culture, Human Rights, War': 1,\n",
       " 'Culture, Human Rights, Politics, War, Sports': 1,\n",
       " 'War, Culture': 1,\n",
       " 'Crime, Corruption': 1,\n",
       " 'Crime, Human Rights': 1,\n",
       " 'Politics, Corruption': 1,\n",
       " 'Politics, War, Human Rights, Culture': 1,\n",
       " 'Corruption, Crime, Culture, Human Rights, Politics, War': 1,\n",
       " 'Business, Corruption, Politics, War': 1,\n",
       " 'War, Corruption, Politics': 1,\n",
       " 'Business, Crime, Human Rights, Politics': 1,\n",
       " 'Crime, Human Rights, Politics, War': 1,\n",
       " 'Business, Corruption, Crime, Human Rights, Politics, War': 1,\n",
       " 'Culture, Politics, Sports, War': 1,\n",
       " 'Business, Corruption, Human Rights, Politics, War': 1,\n",
       " 'Crime, Culture, Human Rights, Politics': 1,\n",
       " 'Business, Corruption, Crime, Culture, Human Rights, Politics, War': 1,\n",
       " 'Corruption, Politics, War': 1,\n",
       " 'Business, Corruption, Crime, Culture, Politics': 1,\n",
       " 'Culture, Human Rights, Politics, Sports, War': 1,\n",
       " 'Culture, Sports, War': 1,\n",
       " 'Business, Crime, Culture, Politics': 1,\n",
       " 'Business, Culture, Politics, War': 1,\n",
       " 'Business, Corruption, Culture': 1,\n",
       " 'Crime, Culture': 1}"
      ]
     },
     "execution_count": 61,
     "metadata": {},
     "output_type": "execute_result"
    }
   ],
   "source": [
    "cov = {}\n",
    "for kill, cover in enumerate(data['Coverage'].value_counts().index.tolist()):\n",
    "    cov[cover] = data['Coverage'].value_counts()[kill]\n",
    "cov"
   ]
  },
  {
   "cell_type": "code",
   "execution_count": 62,
   "id": "2381deeb",
   "metadata": {
    "execution": {
     "iopub.execute_input": "2022-02-13T05:45:44.459756Z",
     "iopub.status.busy": "2022-02-13T05:45:44.454862Z",
     "iopub.status.idle": "2022-02-13T05:45:44.462897Z",
     "shell.execute_reply": "2022-02-13T05:45:44.463350Z",
     "shell.execute_reply.started": "2022-02-13T05:03:35.256672Z"
    },
    "papermill": {
     "duration": 0.11383,
     "end_time": "2022-02-13T05:45:44.463521",
     "exception": false,
     "start_time": "2022-02-13T05:45:44.349691",
     "status": "completed"
    },
    "tags": []
   },
   "outputs": [
    {
     "data": {
      "text/plain": [
       "{0: 'Corruption',\n",
       " 1: 'Human Rights',\n",
       " 2: 'Politics',\n",
       " 3: 'War',\n",
       " 4: 'Crime',\n",
       " 5: 'Culture',\n",
       " 6: 'Business',\n",
       " 7: 'Sports'}"
      ]
     },
     "execution_count": 62,
     "metadata": {},
     "output_type": "execute_result"
    }
   ],
   "source": [
    "cov_kil = ['Corruption',\n",
    " 'Human Rights',\n",
    " 'Politics',\n",
    " 'War',\n",
    " 'Crime',\n",
    " 'Culture',\n",
    " 'Business',\n",
    " 'Sports']\n",
    "S1 = np.arange(0,8)\n",
    "S1 = merge(S1, cov_kil)\n",
    "C = list(S1)\n",
    "cov_kill = {}\n",
    "[cov_kill.update({u:v}) for u, v in C]\n",
    "cov_kill\n"
   ]
  },
  {
   "cell_type": "code",
   "execution_count": 63,
   "id": "e42103ff",
   "metadata": {
    "execution": {
     "iopub.execute_input": "2022-02-13T05:45:44.671988Z",
     "iopub.status.busy": "2022-02-13T05:45:44.671359Z",
     "iopub.status.idle": "2022-02-13T05:45:45.045561Z",
     "shell.execute_reply": "2022-02-13T05:45:45.044834Z",
     "shell.execute_reply.started": "2022-02-13T05:03:35.266274Z"
    },
    "papermill": {
     "duration": 0.479408,
     "end_time": "2022-02-13T05:45:45.045707",
     "exception": false,
     "start_time": "2022-02-13T05:45:44.566299",
     "status": "completed"
    },
    "tags": []
   },
   "outputs": [
    {
     "data": {
      "text/plain": [
       "array([[ 44.,  45.,  98.,  24.,  79.,  14.,  26.,   4.],\n",
       "       [ 45.,  34., 160., 121.,  24.,  38.,  13.,   7.],\n",
       "       [ 98., 160., 169., 180.,  51.,  86.,  32.,   8.],\n",
       "       [ 24., 121., 180., 277.,   9.,  32.,   5.,   4.],\n",
       "       [ 79.,  24.,  51.,   9.,  39.,  13.,  21.,   4.],\n",
       "       [ 14.,  38.,  86.,  32.,  13.,  27.,  25.,  21.],\n",
       "       [ 26.,  13.,  32.,   5.,  21.,  25.,   4.,   5.],\n",
       "       [  4.,   7.,   8.,   4.,   4.,  21.,   5.,   6.]])"
      ]
     },
     "execution_count": 63,
     "metadata": {},
     "output_type": "execute_result"
    }
   ],
   "source": [
    "Arr = np.zeros((8,8))\n",
    "for index, row in data.iterrows():\n",
    "    if len(row['Coverage'].split(',')) == 1:\n",
    "        for j in cov_kill.keys():\n",
    "            if cov_kill[j] == row['Coverage']:\n",
    "                Arr[j][j] += 1\n",
    "    elif len(row['Coverage'].split(',')) > 1:\n",
    "        for k in cov_kill.keys():\n",
    "            for l in cov_kill.keys():\n",
    "                if k == l:\n",
    "                    continue\n",
    "                elif cov_kill[k] in row['Coverage']:\n",
    "                    if cov_kill[l] in row['Coverage']:\n",
    "                        Arr[k][l] =  Arr[k][l]+ 1\n",
    "                        \n",
    "Arr"
   ]
  },
  {
   "cell_type": "markdown",
   "id": "e9be3829",
   "metadata": {
    "papermill": {
     "duration": 0.102024,
     "end_time": "2022-02-13T05:45:45.251330",
     "exception": false,
     "start_time": "2022-02-13T05:45:45.149306",
     "status": "completed"
    },
    "tags": []
   },
   "source": [
    "## Same visualization matrix for the coverage they used to do"
   ]
  },
  {
   "cell_type": "code",
   "execution_count": 64,
   "id": "1f5cb33d",
   "metadata": {
    "execution": {
     "iopub.execute_input": "2022-02-13T05:45:45.466109Z",
     "iopub.status.busy": "2022-02-13T05:45:45.464930Z",
     "iopub.status.idle": "2022-02-13T05:45:45.958720Z",
     "shell.execute_reply": "2022-02-13T05:45:45.959273Z",
     "shell.execute_reply.started": "2022-02-13T05:04:35.027864Z"
    },
    "papermill": {
     "duration": 0.60551,
     "end_time": "2022-02-13T05:45:45.959448",
     "exception": false,
     "start_time": "2022-02-13T05:45:45.353938",
     "status": "completed"
    },
    "tags": []
   },
   "outputs": [
    {
     "data": {
      "image/png": "[encoded data removed]",
      "text/plain": [
       "<Figure size 720x720 with 2 Axes>"
      ]
     },
     "metadata": {
      "needs_background": "light"
     },
     "output_type": "display_data"
    }
   ],
   "source": [
    "cmap = sns.color_palette(\"bright\")\n",
    "plt.figure(figsize = (10,10))\n",
    "linewidths = 2\n",
    "linecolor = \"green\"\n",
    "sns.heatmap(data = Arr, cmap = cmap, annot = True, center = 0,xticklabels = cov_kil,\n",
    "            linewidths=linewidths,linecolor=linecolor,yticklabels = cov_kil)\n",
    "plt.show()"
   ]
  }
 ],
 "metadata": {
  "kernelspec": {
   "display_name": "Python 3",
   "language": "python",
   "name": "python3"
  },
  "language_info": {
   "codemirror_mode": {
    "name": "ipython",
    "version": 3
   },
   "file_extension": ".py",
   "mimetype": "text/x-python",
   "name": "python",
   "nbconvert_exporter": "python",
   "pygments_lexer": "ipython3",
   "version": "3.7.12"
  },
  "papermill": {
   "default_parameters": {},
   "duration": 33.262123,
   "end_time": "2022-02-13T05:45:46.798049",
   "environment_variables": {},
   "exception": null,
   "input_path": "__notebook__.ipynb",
   "output_path": "__notebook__.ipynb",
   "parameters": {},
   "start_time": "2022-02-13T05:45:13.535926",
   "version": "2.3.3"
  }
 },
 "nbformat": 4,
 "nbformat_minor": 5
}
